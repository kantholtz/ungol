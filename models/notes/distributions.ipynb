{
 "cells": [
  {
   "cell_type": "code",
   "execution_count": 2,
   "metadata": {},
   "outputs": [
    {
     "name": "stdout",
     "output_type": "stream",
     "text": [
      "----  ---------\n",
      "mean   0.577837\n",
      "var    1.64774\n",
      "max   15.0261\n",
      "min   -2.38778\n",
      "----  ---------\n"
     ]
    }
   ],
   "source": [
    "import torch\n",
    "from tabulate import tabulate\n",
    "\n",
    "gsampler = torch.distributions.gumbel.Gumbel(scale=torch.Tensor([1]), loc=torch.Tensor([0]))\n",
    "gsamples = gsampler.sample(sample_shape=torch.Size([int(1e5)]))\n",
    "\n",
    "gdata = [\n",
    "    ('mean', gsamples.mean().item()),\n",
    "    ('var', gsamples.var().item()),\n",
    "    ('max', gsamples.max().item()),\n",
    "    ('min', gsamples.min().item()),\n",
    "]\n",
    "\n",
    "print(tabulate(gdata))"
   ]
  },
  {
   "cell_type": "code",
   "execution_count": 40,
   "metadata": {},
   "outputs": [
    {
     "name": "stdout",
     "output_type": "stream",
     "text": [
      "----  ---------\n",
      "mean   0.575568\n",
      "var    1.65548\n",
      "max   15.2492\n",
      "min   -2.52512\n",
      "----  ---------\n"
     ]
    }
   ],
   "source": [
    "usampler = torch.distributions.uniform.Uniform(torch.Tensor([0.0]), torch.Tensor([1.0]))\n",
    "usamples = usampler.sample(sample_shape=torch.Size([int(1e5)]))\n",
    "\n",
    "eps = 1e-20\n",
    "usamples = -torch.log(-torch.log(usamples + eps) + eps)\n",
    "\n",
    "udata = [\n",
    "    ('mean', usamples.mean().item()),\n",
    "    ('var', usamples.var().item()),\n",
    "    ('max', usamples.max().item()),\n",
    "    ('min', usamples.min().item()),\n",
    "]\n",
    "\n",
    "print(tabulate(udata))"
   ]
  }
 ],
 "metadata": {
  "kernelspec": {
   "display_name": "ungol-models",
   "language": "python",
   "name": "ungol-models"
  },
  "language_info": {
   "codemirror_mode": {
    "name": "ipython",
    "version": 3
   },
   "file_extension": ".py",
   "mimetype": "text/x-python",
   "name": "python",
   "nbconvert_exporter": "python",
   "pygments_lexer": "ipython3",
   "version": "3.6.4"
  }
 },
 "nbformat": 4,
 "nbformat_minor": 2
}
