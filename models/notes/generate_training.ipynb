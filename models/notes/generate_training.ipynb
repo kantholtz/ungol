{
 "cells": [
  {
   "cell_type": "markdown",
   "metadata": {},
   "source": [
    "# Generate Train/Test Data Set Split"
   ]
  },
  {
   "cell_type": "markdown",
   "metadata": {},
   "source": [
    "## Vocabulary Size: 400.000"
   ]
  },
  {
   "cell_type": "code",
   "execution_count": 1,
   "metadata": {},
   "outputs": [],
   "source": [
    "import random\n",
    "import pathlib \n",
    "import numpy as np"
   ]
  },
  {
   "cell_type": "code",
   "execution_count": 2,
   "metadata": {},
   "outputs": [],
   "source": [
    "SETS = 10\n",
    "SIZE = 400000\n",
    "SPLIT = 0.9\n",
    "\n",
    "TARGET = pathlib.Path('../conf/train/')"
   ]
  },
  {
   "cell_type": "code",
   "execution_count": 3,
   "metadata": {},
   "outputs": [
    {
     "name": "stdout",
     "output_type": "stream",
     "text": [
      "make split for set 0\n",
      "writing ../conf/train/dataset.idx.400k-0.9-0.npz\n",
      "make split for set 1\n",
      "writing ../conf/train/dataset.idx.400k-0.9-1.npz\n",
      "make split for set 2\n",
      "writing ../conf/train/dataset.idx.400k-0.9-2.npz\n",
      "make split for set 3\n",
      "writing ../conf/train/dataset.idx.400k-0.9-3.npz\n",
      "make split for set 4\n",
      "writing ../conf/train/dataset.idx.400k-0.9-4.npz\n",
      "make split for set 5\n",
      "writing ../conf/train/dataset.idx.400k-0.9-5.npz\n",
      "make split for set 6\n",
      "writing ../conf/train/dataset.idx.400k-0.9-6.npz\n",
      "make split for set 7\n",
      "writing ../conf/train/dataset.idx.400k-0.9-7.npz\n",
      "make split for set 8\n",
      "writing ../conf/train/dataset.idx.400k-0.9-8.npz\n",
      "make split for set 9\n",
      "writing ../conf/train/dataset.idx.400k-0.9-9.npz\n"
     ]
    }
   ],
   "source": [
    "idx = list(range(SIZE))\n",
    "\n",
    "for i in range(SETS):\n",
    "    print('make split for set {}'.format(i))\n",
    "    random.shuffle(idx)\n",
    "    a, b = idx[:int(SIZE * SPLIT)], idx[int(SIZE * SPLIT):]\n",
    "    assert (len(a) + len(b)) == SIZE\n",
    "    \n",
    "    fname = str(TARGET / 'dataset.idx.400k-{}-{}.npz'.format(SPLIT, i))\n",
    "    print('writing', fname)\n",
    "    np.savez_compressed(fname, train=a, test=b)\n"
   ]
  },
  {
   "cell_type": "code",
   "execution_count": 5,
   "metadata": {},
   "outputs": [
    {
     "name": "stdout",
     "output_type": "stream",
     "text": [
      "360000 40000\n"
     ]
    }
   ],
   "source": [
    "npz = np.load(TARGET / 'dataset.idx.400k-{}-1.npz'.format(SPLIT))\n",
    "print(len(npz['train']), len(npz['test']))"
   ]
  }
 ],
 "metadata": {
  "kernelspec": {
   "display_name": "Python 3",
   "language": "python",
   "name": "python3"
  },
  "language_info": {
   "codemirror_mode": {
    "name": "ipython",
    "version": 3
   },
   "file_extension": ".py",
   "mimetype": "text/x-python",
   "name": "python",
   "nbconvert_exporter": "python",
   "pygments_lexer": "ipython3",
   "version": "3.6.4"
  }
 },
 "nbformat": 4,
 "nbformat_minor": 2
}
