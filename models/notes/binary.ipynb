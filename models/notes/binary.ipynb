{
 "cells": [
  {
   "cell_type": "code",
   "execution_count": 1,
   "metadata": {},
   "outputs": [],
   "source": [
    "import h5py\n",
    "import numpy as np\n",
    "\n",
    "import pathlib\n",
    "\n",
    "S_BYTE = 8"
   ]
  },
  {
   "cell_type": "code",
   "execution_count": 8,
   "metadata": {},
   "outputs": [
    {
     "name": "stdout",
     "output_type": "stream",
     "text": [
      "loaded codemap contains uint64 encoded numbers\n",
      "np byte array\n",
      " (10, 32)\n",
      "example bytes array [168  36 176  10 159  20 225 140  83 150 194 129  49 206 172 183  74  98\n",
      " 177 196 140 135  87  99  90 236  80 119  55 207  62  92]\n",
      "example byte string b'\\xa8$\\xb0\\n\\x9f\\x14\\xe1\\x8cS\\x96\\xc2\\x811\\xce\\xac\\xb7Jb\\xb1\\xc4\\x8c\\x87WcZ\\xecPw7\\xcf>\\\\'\n"
     ]
    }
   ],
   "source": [
    "experiment = 'fasttext.de-256x2'\n",
    "fname = 'codemap.model-2000.h5'\n",
    "\n",
    "basepath = pathlib.Path('../opt/experiments/binary/') / experiment\n",
    "codemap = h5py.File(str(basepath / fname), 'r')['codes'][:10]\n",
    "\n",
    "print('loaded codemap contains', codemap.dtype , 'encoded numbers')\n",
    "\n",
    "c_words, c_bits = codemap.shape\n",
    "c_bytes = c_bits // S_BYTE\n",
    "\n",
    "assert c_bits % 8 == 0, c_bits % 8\n",
    "\n",
    "# WORDS x BYTES x BITS\n",
    "# (n, 256) -> (n, 32, 8)\n",
    "raw = codemap.reshape(c_words, c_bytes, -1)\n",
    "\n",
    "# create range of potencies to calculate byte values ([128, 64, 32, ...])\n",
    "# and repeat them until they match the whole chunk\n",
    "_potency_byte = np.flip(2 ** np.arange(S_BYTE, dtype=np.uint))  # (8, )\n",
    "_potency_flat = np.tile(_potency_byte, c_bytes * c_words) # (n * c_bits, )\n",
    "\n",
    "# convert raw array to int representation of bytes\n",
    "potency = _potency_flat.reshape(*raw.shape)\n",
    "byte_arr = (raw * potency).sum(axis=2)  # (n, c_bytes)\n",
    "\n",
    "print('np byte array\\n', byte_arr.shape)\n",
    "byte_str1 = bytes((a for a in byte_arr[0]))\n",
    "byte_str2 = bytes((a for a in byte_arr[0]))\n",
    "\n",
    "print('example bytes array', byte_arr[0])\n",
    "print('example byte string', byte_str1)\n",
    "\n"
   ]
  }
 ],
 "metadata": {
  "kernelspec": {
   "display_name": "ungol-models",
   "language": "python",
   "name": "ungol-models"
  },
  "language_info": {
   "codemirror_mode": {
    "name": "ipython",
    "version": 3
   },
   "file_extension": ".py",
   "mimetype": "text/x-python",
   "name": "python",
   "nbconvert_exporter": "python",
   "pygments_lexer": "ipython3",
   "version": "3.6.4"
  }
 },
 "nbformat": 4,
 "nbformat_minor": 2
}
