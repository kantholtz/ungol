{
 "cells": [
  {
   "cell_type": "markdown",
   "metadata": {
    "ein.tags": "worksheet-0",
    "slideshow": {
     "slide_type": "-"
    }
   },
   "source": [
    "# Embedding Reconstruction\n",
    "\n",
    "Create embeddings readable by ungol.common.embed based on the\n",
    "reconstruction of a given embcompr model. This notebook heavily relies\n",
    "on some naming conventions."
   ]
  },
  {
   "cell_type": "code",
   "execution_count": null,
   "metadata": {
    "autoscroll": false,
    "collapsed": false,
    "ein.hycell": false,
    "ein.tags": "worksheet-0",
    "slideshow": {
     "slide_type": "-"
    }
   },
   "outputs": [],
   "source": [
    "from ungol.models import embcompr\n",
    "import ungol.common.embed as uce\n",
    "\n",
    "import h5py\n",
    "import torch\n",
    "import numpy as np\n",
    "from tqdm import tqdm_notebook as tqdm\n",
    "\n",
    "import pickle\n",
    "import pathlib\n",
    "from collections import namedtuple"
   ]
  },
  {
   "cell_type": "code",
   "execution_count": null,
   "metadata": {
    "autoscroll": false,
    "collapsed": false,
    "ein.hycell": false,
    "ein.tags": "worksheet-0",
    "slideshow": {
     "slide_type": "-"
    }
   },
   "outputs": [],
   "source": [
    "DEV = torch.device('cpu')"
   ]
  },
  {
   "cell_type": "code",
   "execution_count": null,
   "metadata": {
    "autoscroll": false,
    "collapsed": false,
    "ein.hycell": false,
    "ein.tags": "worksheet-0",
    "slideshow": {
     "slide_type": "-"
    }
   },
   "outputs": [],
   "source": [
    "def create_embed(embed: uce.Embed, compr: embcompr.Compressor) -> np.ndarray:\n",
    "    BATCH_SIZE = 128\n",
    "\n",
    "    gen = enumerate(embed.chunks(size=BATCH_SIZE))\n",
    "    bar = tqdm(gen, total=len(embed) // BATCH_SIZE)\n",
    "\n",
    "    Y = []\n",
    "\n",
    "    for i, x in bar:\n",
    "        y = compr(torch.from_numpy(x)).detach().numpy()\n",
    "        Y.append(y)\n",
    "\n",
    "    Y = np.vstack(Y)\n",
    "    assert Y.shape == embed.shape, f'{Y.shape} != {embed.shape}'\n",
    "    return Y"
   ]
  },
  {
   "cell_type": "code",
   "execution_count": null,
   "metadata": {
    "autoscroll": false,
    "collapsed": false,
    "ein.hycell": false,
    "ein.tags": "worksheet-0",
    "slideshow": {
     "slide_type": "-"
    }
   },
   "outputs": [],
   "source": [
    "# use naming convention as given in ../conf/embcompr.<DATASET>.conf\n",
    "\n",
    "# opt/bow/sick\n",
    "# ├── mbow.cosine-dist.h5\n",
    "# ├── mbow.embedding.h5\n",
    "# ├── mbow.sentences.txt\n",
    "# ├── mbow.vocab.pickle\n",
    "# ├── sent2vec.cosine-dist.h5\n",
    "# ├── sent2vec.embedding.h5\n",
    "# ├── sent2vec.sentences.txt\n",
    "# ├── sent2vec.vocab.pickle\n",
    "# ...\n",
    "\n",
    "\n",
    "Params = namedtuple('Params', ('dataset', 'redux', 'bits'))\n",
    "\n",
    "\n",
    "def _get_model_path(p: Params):\n",
    "    return pathlib.Path('../opt/current') / f'{p.dataset}.{p.redux}-{p.bits}'\n",
    "\n",
    "\n",
    "def load(p: Params):\n",
    "    embed_in_path = pathlib.Path('../opt/bow') / p.dataset\n",
    "    print(f'loading embeddings from {embed_in_path}')\n",
    "\n",
    "    embed_in = uce.create(uce.Config(\n",
    "        provider='h5py',\n",
    "        file_name=str(embed_in_path / f'{p.redux}.embedding.h5'),\n",
    "        vocabulary=str(embed_in_path / f'{p.redux}.vocab.pickle'),\n",
    "    ))\n",
    "\n",
    "    print(f'obtained embedding space of shape {embed_in.shape}')\n",
    "    model_in_path = _get_model_path(p)\n",
    "    print(f'load model from {model_in_path}')\n",
    "\n",
    "    f_model = model_in_path / 'compressor'\n",
    "    compr = embcompr.Compressor.load(str(f_model), 'model.torch', DEV)\n",
    "\n",
    "    name = (f_model / 'model.torch').resolve().stem\n",
    "    compr.eval()\n",
    "\n",
    "    print(f'models real name is {name} (version={compr.version})')\n",
    "    return embed_in, compr, name\n",
    "\n",
    "\n",
    "def save(Y: np.ndarray, p: Params, f_model: str, embed: uce.Embed):\n",
    "    path = _get_model_path(p)\n",
    "\n",
    "    f_h5 = path / f'recon.{f_model}.embedding.h5'\n",
    "    print(f'writing {f_h5}')\n",
    "    with h5py.File(f_h5, mode='w') as fd:\n",
    "        fd.create_dataset('embedding', data=Y)\n",
    "\n",
    "    f_pickle = path / f'recon.{f_model}.vocab.pickle'\n",
    "    print(f'writing {f_pickle}')\n",
    "    with open(f_pickle, mode='wb') as fd:\n",
    "        pickle.dump(embed.vocab, fd)"
   ]
  },
  {
   "cell_type": "code",
   "execution_count": null,
   "metadata": {
    "autoscroll": false,
    "collapsed": false,
    "ein.hycell": false,
    "ein.tags": "worksheet-0",
    "slideshow": {
     "slide_type": "-"
    }
   },
   "outputs": [],
   "source": [
    "# embed_in, compr, name = load('sick', 'mbow', 256)\n",
    "\n",
    "def run(p: Params):\n",
    "\n",
    "    print('loading...')\n",
    "    embed_in, compr, name = load(p)\n",
    "\n",
    "    print('tranforming...')\n",
    "    Y = create_embed(embed_in, compr)\n",
    "\n",
    "    print('saving...')\n",
    "    save(Y, p, name, embed_in)\n",
    "\n",
    "    print('done')\n",
    "\n",
    "# p = Params(dataset='sick', redux='mbow', bits=256)\n",
    "# run(p)"
   ]
  },
  {
   "cell_type": "code",
   "execution_count": null,
   "metadata": {
    "autoscroll": false,
    "collapsed": false,
    "ein.hycell": false,
    "ein.tags": "worksheet-0",
    "scrolled": false,
    "slideshow": {
     "slide_type": "-"
    }
   },
   "outputs": [],
   "source": [
    "for glob in pathlib.Path('../opt/current/').glob('*.*-*'):\n",
    "    dataset, suffix = glob.name.split('.')\n",
    "    redux, bits = suffix.split('-')\n",
    "\n",
    "    p = Params(dataset=dataset, redux=redux, bits=bits)\n",
    "\n",
    "    print(f'\\n{p}\\n')\n",
    "    run(p)"
   ]
  }
 ],
 "metadata": {
  "kernelspec": {
   "display_name": "Python 3",
   "name": "python3"
  },
  "language_info": {
   "codemirror_mode": {
    "name": "ipython",
    "version": 3
   },
   "file_extension": ".py",
   "mimetype": "text/x-python",
   "name": "python",
   "nbconvert_exporter": "python",
   "pygments_lexer": "ipython3",
   "version": "3.6.8"
  },
  "name": "reconstruction.ipynb"
 },
 "nbformat": 4,
 "nbformat_minor": 2
}
