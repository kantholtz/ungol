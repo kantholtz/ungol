{
 "cells": [
  {
   "cell_type": "markdown",
   "metadata": {
    "ein.tags": "worksheet-0",
    "slideshow": {
     "slide_type": "-"
    }
   },
   "source": [
    "# SentEval Preparation"
   ]
  },
  {
   "cell_type": "code",
   "execution_count": 1,
   "metadata": {
    "autoscroll": false,
    "collapsed": false,
    "ein.hycell": false,
    "ein.tags": "worksheet-0",
    "slideshow": {
     "slide_type": "-"
    }
   },
   "outputs": [],
   "source": [
    "import torch\n",
    "import numpy as np\n",
    "\n",
    "from ungol.common import embed as uce\n",
    "from ungol.sentemb import redux as usr\n",
    "from ungol.models import embcodr\n",
    "from ungol.models import embcompr\n",
    "from ungol.similarity import rhwmd\n",
    "\n",
    "import pathlib"
   ]
  },
  {
   "cell_type": "code",
   "execution_count": 2,
   "metadata": {
    "autoscroll": false,
    "collapsed": false,
    "ein.hycell": false,
    "ein.tags": "worksheet-0",
    "slideshow": {
     "slide_type": "-"
    }
   },
   "outputs": [],
   "source": [
    "BITS = 256\n",
    "dev = torch.device('cpu')\n",
    "f_mod = 'model.torch'\n",
    "\n",
    "# for redux.Sent2Vec\n",
    "f_exp = '../opt/current/sick.sent2vec-512/compressor'\n",
    "f_sent2vec = '../opt/lib/sent2vec/wiki_bigrams.bin'\n",
    "\n",
    "# for all redux.Embed implementations\n",
    "# f_exp = '../opt/current/sick.mbow-512/compressor'\n",
    "f_embed = '../opt/embed/'\n",
    "f_embed_h5 = 'glove-840b.2m.300d.h5'\n",
    "f_embed_vocab = 'glove-840b.2m.300d.vocab.pickle'"
   ]
  },
  {
   "cell_type": "markdown",
   "metadata": {
    "ein.tags": "worksheet-0",
    "slideshow": {
     "slide_type": "-"
    }
   },
   "source": [
    "### Load the model\n",
    "\n",
    "Do not forget to invoke `model.eval()`! Otherwise activations are non-binary."
   ]
  },
  {
   "cell_type": "code",
   "execution_count": 3,
   "metadata": {
    "autoscroll": false,
    "collapsed": false,
    "ein.hycell": false,
    "ein.tags": "worksheet-0",
    "slideshow": {
     "slide_type": "-"
    }
   },
   "outputs": [
    {
     "name": "stdout",
     "output_type": "stream",
     "text": [
      "Neural Compressor Version 0.2\n",
      "Compressor(\n",
      "  (_encoder): Encoder(\n",
      "    (_gumbel): Gumbel()\n",
      "    (_layer): Sequential(\n",
      "      (fcl1): Linear(in_features=700, out_features=512, bias=True)\n",
      "      (fcl1-a): Tanh()\n",
      "      (fcl2): Linear(in_features=512, out_features=1024, bias=True)\n",
      "      (fcl2-a): Softplus(beta=1, threshold=20)\n",
      "    )\n",
      "  )\n",
      "  (_decoder): QuantizationDecoder()\n",
      ")\n"
     ]
    }
   ],
   "source": [
    "compr = embcompr.Compressor.load(f_exp, f_mod, dev)\n",
    "compr.eval()\n",
    "print(compr)"
   ]
  },
  {
   "cell_type": "markdown",
   "metadata": {
    "ein.tags": "worksheet-0",
    "slideshow": {
     "slide_type": "-"
    }
   },
   "source": [
    "### Load the embeddings"
   ]
  },
  {
   "cell_type": "code",
   "execution_count": 4,
   "metadata": {
    "autoscroll": false,
    "collapsed": false,
    "ein.hycell": false,
    "ein.tags": "worksheet-0",
    "slideshow": {
     "slide_type": "-"
    }
   },
   "outputs": [
    {
     "name": "stdout",
     "output_type": "stream",
     "text": [
      "ungol embedding provider\n",
      "  2196016 words\n",
      "  300 dimensions\n"
     ]
    }
   ],
   "source": [
    "p_embed = pathlib.Path(f_embed)\n",
    "\n",
    "embed = uce.create(uce.Config(\n",
    "    provider='h5py',\n",
    "    file_name=str(p_embed / f_embed_h5),\n",
    "    vocabulary=str(p_embed / f_embed_vocab),\n",
    "))\n",
    "\n",
    "print(embed)"
   ]
  },
  {
   "cell_type": "markdown",
   "metadata": {
    "ein.tags": "worksheet-0",
    "slideshow": {
     "slide_type": "-"
    }
   },
   "source": [
    "### Transform some example sentences"
   ]
  },
  {
   "cell_type": "code",
   "execution_count": 5,
   "metadata": {
    "autoscroll": false,
    "collapsed": false,
    "ein.hycell": false,
    "ein.tags": "worksheet-0",
    "slideshow": {
     "slide_type": "-"
    }
   },
   "outputs": [
    {
     "name": "stdout",
     "output_type": "stream",
     "text": [
      "\n",
      "sentence embeddings:\n",
      " [torch.Size([1, 700]), torch.Size([1, 700]), torch.Size([1, 700])]\n"
     ]
    },
    {
     "name": "stdout",
     "output_type": "stream",
     "text": [
      "\n",
      "non-binary codes:\n",
      " [[0 1 0 ... 1 0 0]\n",
      " [0 0 0 ... 1 0 1]\n",
      " [0 1 1 ... 1 1 1]\n",
      " [0 0 0 ... 1 1 1]\n",
      " [0 1 1 ... 1 1 0]\n",
      " [0 0 0 ... 1 1 1]]\n",
      "\n",
      "hash codes:\n",
      " [[ 69  41 148 214  68 224 212  91 144 153  55  96 158 114  31  83 189  44\n",
      "  108 217 189  16  24 228 232 250  59 180 135 222  59 140]\n",
      " [ 11 154 241 209  23  90 236 199 151  89 120  97  60  86 182  47   1 116\n",
      "  210  55 129  77  21 244  53 135  89  10 227 125  20 229]\n",
      " [117  41 158 190  84  98 220  73 148  17   7  67 136 246  95  87 170   7\n",
      "   93 217 167  22 152  76 170 126 107 117 197 247 123  79]\n",
      " [  9 170 243 216 197 114  32 227 157  73  90  98  48  88 166  46   4  54\n",
      "  242 175 233 123  13 244  87 187 121   2  79  93 180 239]\n",
      " [102 175  30 151 228 227 103  75 200   9   7 105 140 242  30 151  56  46\n",
      "  175 223 181  22 152 100 232 247  35  36 199 246 219 174]\n",
      " [  9  59 143 144  86 254  98 227 213  71  99  64  60  84 246 167 161  52\n",
      "  212 108 233 251  18 117  83 183 124  82 103  69 181 199]]\n"
     ]
    }
   ],
   "source": [
    "# usually the result of some tokenization operation\n",
    "tokens = (\n",
    "    'that rug really tied the room together unbekannteswortasd .'.split(' '),\n",
    "    'there is a carpet in my house'.split(' '),\n",
    "    'yeah well you know thats just like your opinion man .'.split(' '),\n",
    ")\n",
    "\n",
    "# select sentence embedding method\n",
    "# redux = usr.BoW(embed)\n",
    "# redux = usr.MBoW(embed)\n",
    "redux = usr.Sent2Vec(f_sent2vec)\n",
    "\n",
    "# transform tokens to real-valued sentence vectors\n",
    "reduced = torch.Tensor([redux.do(toks) for toks in tokens])\n",
    "print('\\nsentence embeddings:\\n', [vec.shape for vec in reduced])\n",
    "\n",
    "# create non-binary code representation\n",
    "codes = embcodr.create_codes(compr, reduced, BITS)\n",
    "print('\\nnon-binary codes:\\n', codes)\n",
    "\n",
    "# transform these codes to \"real\" hash codes\n",
    "hashes = embcodr.create_hashes(codes).astype(np.uint8)\n",
    "print('\\nhash codes:\\n', hashes)"
   ]
  },
  {
   "cell_type": "markdown",
   "metadata": {
    "ein.tags": "worksheet-0",
    "slideshow": {
     "slide_type": "-"
    }
   },
   "source": [
    "### Calculate the hamming distance"
   ]
  },
  {
   "cell_type": "code",
   "execution_count": 6,
   "metadata": {
    "autoscroll": false,
    "collapsed": false,
    "ein.hycell": false,
    "ein.tags": "worksheet-0",
    "slideshow": {
     "slide_type": "-"
    }
   },
   "outputs": [
    {
     "name": "stdout",
     "output_type": "stream",
     "text": [
      "that rug really tied the room together unbekannteswortasd .\n",
      "0 | 0.49609 | there is a carpet in my house\n",
      "1 | 0.26172 | yeah well you know thats just like your opinion man .\n"
     ]
    }
   ],
   "source": [
    "print(' '.join(tokens[0]))\n",
    "\n",
    "fmt = '{:1d} | {:.05f} | {}'\n",
    "\n",
    "for i, (s1, s2) in enumerate(((hashes[0], hashes[1]), (hashes[0], hashes[2]))):\n",
    "    # this interface might change in the future (rhwmd is the wrong name!)\n",
    "    print(fmt.format(i, rhwmd.hamming(s1, s2), ' '.join(tokens[i + 1])))"
   ]
  }
 ],
 "metadata": {
  "kernelspec": {
   "display_name": "Python 3",
   "name": "python3"
  },
  "language_info": {
   "codemirror_mode": {
    "name": "ipython",
    "version": 3
   },
   "file_extension": ".py",
   "mimetype": "text/x-python",
   "name": "python",
   "nbconvert_exporter": "python",
   "pygments_lexer": "ipython3",
   "version": "3.6.8"
  },
  "name": "senteval.ipynb"
 },
 "nbformat": 4,
 "nbformat_minor": 2
}
