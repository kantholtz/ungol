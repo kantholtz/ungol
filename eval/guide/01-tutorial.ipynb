{
 "cells": [
  {
   "cell_type": "markdown",
   "metadata": {},
   "source": [
    "# The definitive guide\n",
    "## 01 - Tutorial\n",
    "\n",
    "`sudo docker run --name ungol-es_guide -p 9200:9200 -p 9300:9300 -e 'discovery.type=single-node' docker.elastic.co/elasticsearch/elasticsearch:6.2.4`\n",
    "\n",
    "* https://www.elastic.co/guide/en/elasticsearch/reference/6.0/removal-of-types.html"
   ]
  },
  {
   "cell_type": "code",
   "execution_count": 1,
   "metadata": {},
   "outputs": [],
   "source": [
    "import json\n",
    "import pathlib\n",
    "\n",
    "SRC = pathlib.Path('src/')"
   ]
  },
  {
   "cell_type": "code",
   "execution_count": 6,
   "metadata": {},
   "outputs": [
    {
     "name": "stdout",
     "output_type": "stream",
     "text": [
      "{'cluster_name': 'docker-cluster',\n",
      " 'cluster_uuid': 'O37AcGfuSMe1_i68NGyEPg',\n",
      " 'name': 'DbF5o3U',\n",
      " 'tagline': 'You Know, for Search',\n",
      " 'version': {'build_date': '2018-04-12T20:37:28.497551Z',\n",
      "             'build_hash': 'ccec39f',\n",
      "             'build_snapshot': False,\n",
      "             'lucene_version': '7.2.1',\n",
      "             'minimum_index_compatibility_version': '5.0.0',\n",
      "             'minimum_wire_compatibility_version': '5.6.0',\n",
      "             'number': '6.2.4'}}\n"
     ]
    }
   ],
   "source": [
    "from pprint import pprint as pp\n",
    "import elasticsearch as es\n",
    "e = es.Elasticsearch([{ 'host': 'localhost', 'port': 9200 }])\n",
    "\n",
    "pp(e.info())"
   ]
  },
  {
   "cell_type": "code",
   "execution_count": 9,
   "metadata": {},
   "outputs": [
    {
     "data": {
      "text/plain": [
       "'bulk, cat, clear_scroll, cluster, count, create, delete, delete_by_query, delete_script, exists, exists_source, explain, field_caps, get, get_script, get_source, get_template, index, indices, info, ingest, mget, msearch, msearch_template, mtermvectors, nodes, ping, put_script, put_template, reindex, reindex_rethrottle, remote, render_search_template, scroll, search, search_shards, search_template, snapshot, tasks, termvectors, transport, update, update_by_query, xpack'"
      ]
     },
     "execution_count": 9,
     "metadata": {},
     "output_type": "execute_result"
    }
   ],
   "source": [
    "', '.join([fn for fn in dir(e) if not fn.startswith('_')])"
   ]
  },
  {
   "cell_type": "code",
   "execution_count": 15,
   "metadata": {},
   "outputs": [
    {
     "name": "stdout",
     "output_type": "stream",
     "text": [
      "{'_shards': {'failed': 0, 'skipped': 0, 'successful': 1, 'total': 1},\n",
      " 'count': 1674}\n"
     ]
    }
   ],
   "source": [
    "pp(e.count())"
   ]
  },
  {
   "cell_type": "code",
   "execution_count": 21,
   "metadata": {},
   "outputs": [
    {
     "name": "stdout",
     "output_type": "stream",
     "text": [
      "3\n"
     ]
    }
   ],
   "source": [
    "with SRC.joinpath('employees.json').open('r') as f:\n",
    "    employees = json.loads(f.read())\n",
    "    \n",
    "pp(len(employees))"
   ]
  },
  {
   "cell_type": "markdown",
   "metadata": {},
   "source": [
    "## Populate the index"
   ]
  },
  {
   "cell_type": "code",
   "execution_count": 31,
   "metadata": {},
   "outputs": [
    {
     "name": "stderr",
     "output_type": "stream",
     "text": [
      "PUT http://localhost:9200/employee/bullshit/1/_create [status:409 request:0.004s]\n"
     ]
    },
    {
     "name": "stdout",
     "output_type": "stream",
     "text": [
      "'employee already exists'\n",
      "{'_id': '1',\n",
      " '_index': 'employee',\n",
      " '_source': {'about': 'I love to go rock climbing',\n",
      "             'age': 25,\n",
      "             'first_name': 'John',\n",
      "             'interests': ['sports', 'music'],\n",
      "             'last_name': 'Smith'},\n",
      " '_type': 'bullshit',\n",
      " '_version': 1,\n",
      " 'found': True}\n"
     ]
    }
   ],
   "source": [
    "# a type must be provided, unfortunately\n",
    "# don't know how this will be handled in ES7, where\n",
    "# document types are removed for good\n",
    "#\n",
    "# https://github.com/elastic/elasticsearch-py/issues/646\n",
    "\n",
    "idx_args = {\n",
    "    'index': 'employee',\n",
    "    'doc_type': 'bullshit'\n",
    "}\n",
    "\n",
    "# e.index(..., op_type='create')\n",
    "try:\n",
    "    res = e.create(id=1, body=employees[0], **idx_args)\n",
    "    \n",
    "except es.ConflictError:\n",
    "    pp('employee already exists')\n",
    "    res = e.get(id=1, **idx_args)\n",
    "    \n",
    "pp(res)"
   ]
  },
  {
   "cell_type": "code",
   "execution_count": 32,
   "metadata": {},
   "outputs": [
    {
     "name": "stdout",
     "output_type": "stream",
     "text": [
      "{'_id': '2',\n",
      " '_index': 'employee',\n",
      " '_primary_term': 1,\n",
      " '_seq_no': 0,\n",
      " '_shards': {'failed': 0, 'successful': 1, 'total': 2},\n",
      " '_type': 'bullshit',\n",
      " '_version': 1,\n",
      " 'result': 'created'}\n",
      "{'_id': '3',\n",
      " '_index': 'employee',\n",
      " '_primary_term': 1,\n",
      " '_seq_no': 0,\n",
      " '_shards': {'failed': 0, 'successful': 1, 'total': 2},\n",
      " '_type': 'bullshit',\n",
      " '_version': 1,\n",
      " 'result': 'created'}\n"
     ]
    }
   ],
   "source": [
    "# index the remaining employees\n",
    "for i, employee in enumerate(employees[1:], start=2):\n",
    "    if not e.exists(id=i, **idx_args):\n",
    "        ret = e.create(id=i, body=employee, **idx_args)\n",
    "        pp(ret)\n",
    "    else:\n",
    "        ret = e.get(id=i, **idx_args)\n",
    "        pp(ret)"
   ]
  },
  {
   "cell_type": "markdown",
   "metadata": {},
   "source": [
    "## execute a simple search"
   ]
  },
  {
   "cell_type": "code",
   "execution_count": 33,
   "metadata": {},
   "outputs": [
    {
     "data": {
      "text/plain": [
       "{'took': 21,\n",
       " 'timed_out': False,\n",
       " '_shards': {'total': 5, 'successful': 5, 'skipped': 0, 'failed': 0},\n",
       " 'hits': {'total': 3,\n",
       "  'max_score': 1.0,\n",
       "  'hits': [{'_index': 'employee',\n",
       "    '_type': 'bullshit',\n",
       "    '_id': '2',\n",
       "    '_score': 1.0,\n",
       "    '_source': {'first_name': 'Jane',\n",
       "     'last_name': 'Smith',\n",
       "     'age': 32,\n",
       "     'about': 'I like to collect rock albums',\n",
       "     'interests': ['music']}},\n",
       "   {'_index': 'employee',\n",
       "    '_type': 'bullshit',\n",
       "    '_id': '1',\n",
       "    '_score': 1.0,\n",
       "    '_source': {'first_name': 'John',\n",
       "     'last_name': 'Smith',\n",
       "     'age': 25,\n",
       "     'about': 'I love to go rock climbing',\n",
       "     'interests': ['sports', 'music']}},\n",
       "   {'_index': 'employee',\n",
       "    '_type': 'bullshit',\n",
       "    '_id': '3',\n",
       "    '_score': 1.0,\n",
       "    '_source': {'first_name': 'Douglas',\n",
       "     'last_name': 'Fir',\n",
       "     'age': 35,\n",
       "     'about': 'I like to build cabinets',\n",
       "     'interests': ['forestry']}}]}}"
      ]
     },
     "execution_count": 33,
     "metadata": {},
     "output_type": "execute_result"
    }
   ],
   "source": [
    "# by default, the top 10 results are returned\n",
    "e.search(**idx_args)"
   ]
  },
  {
   "cell_type": "code",
   "execution_count": 34,
   "metadata": {},
   "outputs": [
    {
     "data": {
      "text/plain": [
       "{'took': 22,\n",
       " 'timed_out': False,\n",
       " '_shards': {'total': 5, 'successful': 5, 'skipped': 0, 'failed': 0},\n",
       " 'hits': {'total': 2,\n",
       "  'max_score': 0.2876821,\n",
       "  'hits': [{'_index': 'employee',\n",
       "    '_type': 'bullshit',\n",
       "    '_id': '2',\n",
       "    '_score': 0.2876821,\n",
       "    '_source': {'first_name': 'Jane',\n",
       "     'last_name': 'Smith',\n",
       "     'age': 32,\n",
       "     'about': 'I like to collect rock albums',\n",
       "     'interests': ['music']}},\n",
       "   {'_index': 'employee',\n",
       "    '_type': 'bullshit',\n",
       "    '_id': '1',\n",
       "    '_score': 0.2876821,\n",
       "    '_source': {'first_name': 'John',\n",
       "     'last_name': 'Smith',\n",
       "     'age': 25,\n",
       "     'about': 'I love to go rock climbing',\n",
       "     'interests': ['sports', 'music']}}]}}"
      ]
     },
     "execution_count": 34,
     "metadata": {},
     "output_type": "execute_result"
    }
   ],
   "source": [
    "# search by using the lucene query string syntax\n",
    "e.search(q='last_name:Smith', **idx_args)"
   ]
  },
  {
   "cell_type": "code",
   "execution_count": 35,
   "metadata": {},
   "outputs": [
    {
     "data": {
      "text/plain": [
       "{'took': 6,\n",
       " 'timed_out': False,\n",
       " '_shards': {'total': 5, 'successful': 5, 'skipped': 0, 'failed': 0},\n",
       " 'hits': {'total': 2,\n",
       "  'max_score': 0.2876821,\n",
       "  'hits': [{'_index': 'employee',\n",
       "    '_type': 'bullshit',\n",
       "    '_id': '2',\n",
       "    '_score': 0.2876821,\n",
       "    '_source': {'first_name': 'Jane',\n",
       "     'last_name': 'Smith',\n",
       "     'age': 32,\n",
       "     'about': 'I like to collect rock albums',\n",
       "     'interests': ['music']}},\n",
       "   {'_index': 'employee',\n",
       "    '_type': 'bullshit',\n",
       "    '_id': '1',\n",
       "    '_score': 0.2876821,\n",
       "    '_source': {'first_name': 'John',\n",
       "     'last_name': 'Smith',\n",
       "     'age': 25,\n",
       "     'about': 'I love to go rock climbing',\n",
       "     'interests': ['sports', 'music']}}]}}"
      ]
     },
     "execution_count": 35,
     "metadata": {},
     "output_type": "execute_result"
    }
   ],
   "source": [
    "# search by using the query DSL\n",
    "e.search(body={'query': {'match': {'last_name': 'Smith'}}}, **idx_args)"
   ]
  },
  {
   "cell_type": "markdown",
   "metadata": {},
   "source": [
    "## More complicated searches"
   ]
  },
  {
   "cell_type": "code",
   "execution_count": 36,
   "metadata": {},
   "outputs": [
    {
     "data": {
      "text/plain": [
       "{'took': 16,\n",
       " 'timed_out': False,\n",
       " '_shards': {'total': 5, 'successful': 5, 'skipped': 0, 'failed': 0},\n",
       " 'hits': {'total': 1,\n",
       "  'max_score': 0.2876821,\n",
       "  'hits': [{'_index': 'employee',\n",
       "    '_type': 'bullshit',\n",
       "    '_id': '2',\n",
       "    '_score': 0.2876821,\n",
       "    '_source': {'first_name': 'Jane',\n",
       "     'last_name': 'Smith',\n",
       "     'age': 32,\n",
       "     'about': 'I like to collect rock albums',\n",
       "     'interests': ['music']}}]}}"
      ]
     },
     "execution_count": 36,
     "metadata": {},
     "output_type": "execute_result"
    }
   ],
   "source": [
    "query = {\n",
    "    'query': {\n",
    "        'bool': {\n",
    "            'must': {\n",
    "                'match': {\n",
    "                    'last_name': 'smith'}},\n",
    "            'filter': {\n",
    "                'range': {\n",
    "                    'age': { 'gt': 30 }}}}}}\n",
    "\n",
    "e.search(body=query, **idx_args)"
   ]
  },
  {
   "cell_type": "markdown",
   "metadata": {},
   "source": [
    "## Full text searches"
   ]
  },
  {
   "cell_type": "code",
   "execution_count": 37,
   "metadata": {},
   "outputs": [
    {
     "data": {
      "text/plain": [
       "{'took': 15,\n",
       " 'timed_out': False,\n",
       " '_shards': {'total': 6, 'successful': 6, 'skipped': 0, 'failed': 0},\n",
       " 'hits': {'total': 2,\n",
       "  'max_score': 0.5753642,\n",
       "  'hits': [{'_index': 'employee',\n",
       "    '_type': 'bullshit',\n",
       "    '_id': '1',\n",
       "    '_score': 0.5753642,\n",
       "    '_source': {'first_name': 'John',\n",
       "     'last_name': 'Smith',\n",
       "     'age': 25,\n",
       "     'about': 'I love to go rock climbing',\n",
       "     'interests': ['sports', 'music']}},\n",
       "   {'_index': 'employee',\n",
       "    '_type': 'bullshit',\n",
       "    '_id': '2',\n",
       "    '_score': 0.2876821,\n",
       "    '_source': {'first_name': 'Jane',\n",
       "     'last_name': 'Smith',\n",
       "     'age': 32,\n",
       "     'about': 'I like to collect rock albums',\n",
       "     'interests': ['music']}}]}}"
      ]
     },
     "execution_count": 37,
     "metadata": {},
     "output_type": "execute_result"
    }
   ],
   "source": [
    "e.search(body={'query': {'match': {'about': 'rock climbing'}}})"
   ]
  },
  {
   "cell_type": "code",
   "execution_count": 38,
   "metadata": {},
   "outputs": [
    {
     "data": {
      "text/plain": [
       "{'took': 35,\n",
       " 'timed_out': False,\n",
       " '_shards': {'total': 6, 'successful': 6, 'skipped': 0, 'failed': 0},\n",
       " 'hits': {'total': 1,\n",
       "  'max_score': 0.5753642,\n",
       "  'hits': [{'_index': 'employee',\n",
       "    '_type': 'bullshit',\n",
       "    '_id': '1',\n",
       "    '_score': 0.5753642,\n",
       "    '_source': {'first_name': 'John',\n",
       "     'last_name': 'Smith',\n",
       "     'age': 25,\n",
       "     'about': 'I love to go rock climbing',\n",
       "     'interests': ['sports', 'music']}}]}}"
      ]
     },
     "execution_count": 38,
     "metadata": {},
     "output_type": "execute_result"
    }
   ],
   "source": [
    "e.search(body={'query': {'match_phrase': {'about': 'rock climbing'}}})"
   ]
  },
  {
   "cell_type": "markdown",
   "metadata": {},
   "source": [
    "## Aggregations"
   ]
  },
  {
   "cell_type": "code",
   "execution_count": 46,
   "metadata": {},
   "outputs": [
    {
     "name": "stdout",
     "output_type": "stream",
     "text": [
      "'query'\n",
      "{'aggs': {'all_interests': {'terms': {'field': 'interests.keyword'}}}}\n",
      "'response'\n",
      "{'doc_count': 2, 'key': 'music'}\n",
      "{'doc_count': 1, 'key': 'forestry'}\n",
      "{'doc_count': 1, 'key': 'sports'}\n"
     ]
    }
   ],
   "source": [
    "agg_terms = {'terms': {'field': 'interests.keyword'}}\n",
    "query = {'aggs': {'all_interests': agg_terms}}\n",
    "\n",
    "pp('query')\n",
    "pp(query)\n",
    "\n",
    "res = e.search(body=query, **idx_args)\n",
    "\n",
    "pp('response')\n",
    "for bucket in res['aggregations']['all_interests']['buckets']:\n",
    "    pp(bucket)"
   ]
  },
  {
   "cell_type": "code",
   "execution_count": 48,
   "metadata": {},
   "outputs": [
    {
     "name": "stdout",
     "output_type": "stream",
     "text": [
      "'query'\n",
      "{'aggs': {'all_interests': {'aggs': {'avg_age': {'avg': {'field': 'age'}}},\n",
      "                            'terms': {'field': 'interests.keyword'}}}}\n",
      "'response'\n",
      "{'avg_age': {'value': 28.5}, 'doc_count': 2, 'key': 'music'}\n",
      "{'avg_age': {'value': 35.0}, 'doc_count': 1, 'key': 'forestry'}\n",
      "{'avg_age': {'value': 25.0}, 'doc_count': 1, 'key': 'sports'}\n"
     ]
    }
   ],
   "source": [
    "# average age of employees sharing an interest\n",
    "agg_age = {'aggs': { 'avg_age': {'avg': {'field': 'age'}}}}\n",
    "query = {'aggs': {'all_interests': {**agg_terms, **agg_age}}}\n",
    "\n",
    "pp('query')\n",
    "pp(query)\n",
    "\n",
    "res = e.search(body=query, **idx_args)\n",
    "\n",
    "pp('response')\n",
    "for bucket in res['aggregations']['all_interests']['buckets']:\n",
    "    pp(bucket)"
   ]
  }
 ],
 "metadata": {
  "kernelspec": {
   "display_name": "Python 3",
   "language": "python",
   "name": "python3"
  },
  "language_info": {
   "codemirror_mode": {
    "name": "ipython",
    "version": 3
   },
   "file_extension": ".py",
   "mimetype": "text/x-python",
   "name": "python",
   "nbconvert_exporter": "python",
   "pygments_lexer": "ipython3",
   "version": "3.6.4"
  }
 },
 "nbformat": 4,
 "nbformat_minor": 2
}
