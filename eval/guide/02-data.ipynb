{
 "cells": [
  {
   "cell_type": "markdown",
   "metadata": {},
   "source": [
    "# The definitive guide\n",
    "## 02 - Data"
   ]
  },
  {
   "cell_type": "code",
   "execution_count": 4,
   "metadata": {},
   "outputs": [
    {
     "data": {
      "text/plain": [
       "True"
      ]
     },
     "execution_count": 4,
     "metadata": {},
     "output_type": "execute_result"
    }
   ],
   "source": [
    "from pprint import pprint as pp\n",
    "import elasticsearch as es\n",
    "e = es.Elasticsearch([{ 'host': 'localhost', 'port': 9200 }])\n",
    "e.ping()"
   ]
  },
  {
   "cell_type": "code",
   "execution_count": 7,
   "metadata": {},
   "outputs": [
    {
     "name": "stdout",
     "output_type": "stream",
     "text": [
      "creating index:  {'acknowledged': True, 'shards_acknowledged': True, 'index': 'blog'}\n",
      "{'_shards': {'failed': 0, 'skipped': 0, 'successful': 5, 'total': 5},\n",
      " 'hits': {'hits': [], 'max_score': None, 'total': 0},\n",
      " 'timed_out': False,\n",
      " 'took': 1}\n"
     ]
    }
   ],
   "source": [
    "idx = { 'index': 'blog', 'doc_type': 'nope' }\n",
    "\n",
    "def proxy(fn, *args, **kwargs):\n",
    "    return fn(*args, **{**idx, **kwargs})\n",
    "\n",
    "if not e.indices.exists(index=idx['index']):\n",
    "    ret = e.indices.create(index=idx['index'])\n",
    "    print('creating index: ', ret)\n",
    "\n",
    "# test proxy\n",
    "pp(proxy(e.search))"
   ]
  },
  {
   "cell_type": "code",
   "execution_count": 38,
   "metadata": {},
   "outputs": [
    {
     "data": {
      "text/plain": [
       "{'acknowledged': True}"
      ]
     },
     "execution_count": 38,
     "metadata": {},
     "output_type": "execute_result"
    }
   ],
   "source": [
    "# purge!\n",
    "e.indices.delete(index=idx['index'])"
   ]
  },
  {
   "cell_type": "code",
   "execution_count": 39,
   "metadata": {},
   "outputs": [
    {
     "name": "stdout",
     "output_type": "stream",
     "text": [
      "creating document 1\n",
      "creating document 2\n",
      "{'_shards': {'failed': 0, 'skipped': 0, 'successful': 5, 'total': 5},\n",
      " 'hits': {'hits': [], 'max_score': None, 'total': 0},\n",
      " 'timed_out': False,\n",
      " 'took': 0}\n"
     ]
    }
   ],
   "source": [
    "entries = [{\n",
    "    'title': 'The first blog post',\n",
    "    'text': 'Just trying this out...',\n",
    "    'date': '2018/27/04',\n",
    "}, {\n",
    "    'title': 'The second blog post',\n",
    "    'text': 'Still trying this out...',\n",
    "    'date': '2018/05/03',\n",
    "}]\n",
    "\n",
    "for i, entry in enumerate(entries, start=1):\n",
    "    if not proxy(e.exists, id=i):\n",
    "        print('creating document', i)\n",
    "        proxy(e.create, id=i, body=entry)\n",
    "\n",
    "# sometimes not indexed, run this cell again...\n",
    "pp(proxy(e.search))"
   ]
  },
  {
   "cell_type": "markdown",
   "metadata": {},
   "source": [
    "## Retrieve subsets of document"
   ]
  },
  {
   "cell_type": "code",
   "execution_count": 20,
   "metadata": {},
   "outputs": [
    {
     "name": "stdout",
     "output_type": "stream",
     "text": [
      "only metadata\n",
      "{'_id': '1', '_index': 'blog', '_type': 'nope', '_version': 1, 'found': True}\n",
      "\n",
      "only title\n",
      "{'title': 'The first blog post'}\n"
     ]
    }
   ],
   "source": [
    "print('only metadata')\n",
    "pp(proxy(e.get, id=1, _source=False))\n",
    "\n",
    "print('\\nonly title')\n",
    "pp(proxy(e.get, id=1, _source=['title'])['_source'])"
   ]
  },
  {
   "cell_type": "markdown",
   "metadata": {},
   "source": [
    "## Updating a document"
   ]
  },
  {
   "cell_type": "code",
   "execution_count": 44,
   "metadata": {},
   "outputs": [
    {
     "name": "stdout",
     "output_type": "stream",
     "text": [
      "document version:  9\n",
      "re-creating document\n",
      "document version 11\n",
      "changing document text\n",
      "re-indexing document\n",
      "new document version 12\n",
      "new document text This is now another text\n"
     ]
    }
   ],
   "source": [
    "ID = 1\n",
    "\n",
    "res = proxy(e.get, id=ID)\n",
    "print('document version: ', res['_version'])\n",
    "print('re-creating document')\n",
    "\n",
    "proxy(e.delete, id=ID)\n",
    "assert not proxy(e.exists, id=ID)\n",
    "\n",
    "proxy(e.create, id=ID, body=res['_source'])\n",
    "res = proxy(e.get, id=ID)\n",
    "print('document version', res['_version'])\n",
    "\n",
    "print('changing document text')\n",
    "doc = res['_source']\n",
    "doc['text'] = 'This is now another text'\n",
    "    \n",
    "print('re-indexing document')\n",
    "proxy(e.index, id=ID, body=doc)\n",
    "    \n",
    "res = proxy(e.get, id=ID)\n",
    "print('new document version', res['_version'])\n",
    "print('new document text', res['_source']['text'])"
   ]
  },
  {
   "cell_type": "markdown",
   "metadata": {},
   "source": [
    "deleted documents do not get their version number re-setted."
   ]
  },
  {
   "cell_type": "markdown",
   "metadata": {},
   "source": [
    "## Concurrency control"
   ]
  },
  {
   "cell_type": "code",
   "execution_count": 50,
   "metadata": {},
   "outputs": [],
   "source": [
    "import os\n",
    "import multiprocessing as mp"
   ]
  },
  {
   "cell_type": "markdown",
   "metadata": {},
   "source": [
    "### Experiment 1 - Counting from multiple processes\n",
    "\n",
    "Two processes re-index the same document while stealing increments from each other.\n",
    "The expected result would be a count of 200, as two processes increment 100 times each."
   ]
  },
  {
   "cell_type": "code",
   "execution_count": 59,
   "metadata": {},
   "outputs": [
    {
     "name": "stdout",
     "output_type": "stream",
     "text": [
      "indexed count document\n",
      "29463 starting\n",
      "29464 starting\n",
      "29463 finished, skipped 0\n",
      "29464 finished, skipped 0\n",
      "final count: 102\n"
     ]
    }
   ],
   "source": [
    "_conc_ctx = {'id': 1, 'index': 'conc', 'doc_type': 'nop'}\n",
    "e.index(body={'count': 0}, **_conc_ctx)\n",
    "print('indexed count document')\n",
    "\n",
    "def loop():\n",
    "    # the elasticsearch client is not thread-safe\n",
    "    cli = es.Elasticsearch([{ 'host': 'localhost', 'port': 9200 }])\n",
    "    \n",
    "    pid = os.getpid()\n",
    "    print(pid, 'starting')\n",
    "    \n",
    "    skipped = 0\n",
    "    for i in range(100):\n",
    "        res = cli.get(**_conc_ctx)\n",
    "        if not '_source' in res:\n",
    "            skipped += 1\n",
    "            continue\n",
    "        \n",
    "        count = res['_source']['count']\n",
    "        cli.index(body={'count': count + 1}, **_conc_ctx)\n",
    "        \n",
    "    print(pid, 'finished, skipped', skipped)\n",
    "\n",
    "p1 = mp.Process(target=loop)\n",
    "p2 = mp.Process(target=loop)\n",
    "\n",
    "p1.start()\n",
    "p2.start()\n",
    "\n",
    "p1.join()\n",
    "p2.join()\n",
    "\n",
    "print('final count:', e.get(**_conc_ctx)['_source']['count'])\n",
    "    "
   ]
  },
  {
   "cell_type": "markdown",
   "metadata": {},
   "source": [
    "### Experiment 2 - Resolving conflicts by _version\n",
    "\n",
    "Everytime a version conflict occurs, the document is re-read and the increment is attempted again. Note that it fails around every second time."
   ]
  },
  {
   "cell_type": "code",
   "execution_count": 69,
   "metadata": {},
   "outputs": [
    {
     "name": "stdout",
     "output_type": "stream",
     "text": [
      "indexed count document\n",
      "initial count 0\n",
      "[30792] starting\n",
      "[30793] starting\n"
     ]
    },
    {
     "name": "stderr",
     "output_type": "stream",
     "text": [
      "PUT http://localhost:9200/conc/nop/1?version=2960 [status:409 request:0.002s]\n",
      "PUT http://localhost:9200/conc/nop/1?version=2962 [status:409 request:0.002s]\n",
      "PUT http://localhost:9200/conc/nop/1?version=2964 [status:409 request:0.002s]\n",
      "PUT http://localhost:9200/conc/nop/1?version=2966 [status:409 request:0.001s]\n",
      "PUT http://localhost:9200/conc/nop/1?version=2968 [status:409 request:0.002s]\n",
      "PUT http://localhost:9200/conc/nop/1?version=2970 [status:409 request:0.002s]\n",
      "PUT http://localhost:9200/conc/nop/1?version=2972 [status:409 request:0.002s]\n",
      "PUT http://localhost:9200/conc/nop/1?version=2974 [status:409 request:0.002s]\n",
      "PUT http://localhost:9200/conc/nop/1?version=2976 [status:409 request:0.001s]\n",
      "PUT http://localhost:9200/conc/nop/1?version=2979 [status:409 request:0.002s]\n",
      "PUT http://localhost:9200/conc/nop/1?version=2981 [status:409 request:0.002s]\n",
      "PUT http://localhost:9200/conc/nop/1?version=2983 [status:409 request:0.001s]\n",
      "PUT http://localhost:9200/conc/nop/1?version=2985 [status:409 request:0.001s]\n",
      "PUT http://localhost:9200/conc/nop/1?version=2987 [status:409 request:0.002s]\n",
      "PUT http://localhost:9200/conc/nop/1?version=2989 [status:409 request:0.002s]\n",
      "PUT http://localhost:9200/conc/nop/1?version=2991 [status:409 request:0.002s]\n",
      "PUT http://localhost:9200/conc/nop/1?version=2993 [status:409 request:0.002s]\n",
      "PUT http://localhost:9200/conc/nop/1?version=2995 [status:409 request:0.001s]\n",
      "PUT http://localhost:9200/conc/nop/1?version=2997 [status:409 request:0.003s]\n",
      "PUT http://localhost:9200/conc/nop/1?version=2999 [status:409 request:0.002s]\n",
      "PUT http://localhost:9200/conc/nop/1?version=3001 [status:409 request:0.002s]\n",
      "PUT http://localhost:9200/conc/nop/1?version=3003 [status:409 request:0.002s]\n",
      "PUT http://localhost:9200/conc/nop/1?version=3005 [status:409 request:0.002s]\n",
      "PUT http://localhost:9200/conc/nop/1?version=3007 [status:409 request:0.002s]\n",
      "PUT http://localhost:9200/conc/nop/1?version=3009 [status:409 request:0.002s]\n",
      "PUT http://localhost:9200/conc/nop/1?version=3011 [status:409 request:0.001s]\n",
      "PUT http://localhost:9200/conc/nop/1?version=3013 [status:409 request:0.002s]\n",
      "PUT http://localhost:9200/conc/nop/1?version=3015 [status:409 request:0.002s]\n",
      "PUT http://localhost:9200/conc/nop/1?version=3017 [status:409 request:0.001s]\n",
      "PUT http://localhost:9200/conc/nop/1?version=3019 [status:409 request:0.002s]\n",
      "PUT http://localhost:9200/conc/nop/1?version=3021 [status:409 request:0.001s]\n",
      "PUT http://localhost:9200/conc/nop/1?version=3023 [status:409 request:0.002s]\n",
      "PUT http://localhost:9200/conc/nop/1?version=3025 [status:409 request:0.001s]\n",
      "PUT http://localhost:9200/conc/nop/1?version=3027 [status:409 request:0.006s]\n",
      "PUT http://localhost:9200/conc/nop/1?version=3029 [status:409 request:0.002s]\n",
      "PUT http://localhost:9200/conc/nop/1?version=3031 [status:409 request:0.001s]\n",
      "PUT http://localhost:9200/conc/nop/1?version=3033 [status:409 request:0.001s]\n",
      "PUT http://localhost:9200/conc/nop/1?version=3035 [status:409 request:0.001s]\n",
      "PUT http://localhost:9200/conc/nop/1?version=3037 [status:409 request:0.002s]\n",
      "PUT http://localhost:9200/conc/nop/1?version=3039 [status:409 request:0.002s]\n",
      "PUT http://localhost:9200/conc/nop/1?version=3041 [status:409 request:0.002s]\n",
      "PUT http://localhost:9200/conc/nop/1?version=3043 [status:409 request:0.001s]\n",
      "PUT http://localhost:9200/conc/nop/1?version=3046 [status:409 request:0.002s]\n",
      "PUT http://localhost:9200/conc/nop/1?version=3048 [status:409 request:0.002s]\n",
      "PUT http://localhost:9200/conc/nop/1?version=3050 [status:409 request:0.001s]\n",
      "PUT http://localhost:9200/conc/nop/1?version=3053 [status:409 request:0.002s]\n",
      "PUT http://localhost:9200/conc/nop/1?version=3055 [status:409 request:0.001s]\n",
      "PUT http://localhost:9200/conc/nop/1?version=3057 [status:409 request:0.002s]\n",
      "PUT http://localhost:9200/conc/nop/1?version=3059 [status:409 request:0.001s]\n",
      "PUT http://localhost:9200/conc/nop/1?version=3061 [status:409 request:0.002s]\n",
      "PUT http://localhost:9200/conc/nop/1?version=3063 [status:409 request:0.002s]\n",
      "PUT http://localhost:9200/conc/nop/1?version=3065 [status:409 request:0.001s]\n",
      "PUT http://localhost:9200/conc/nop/1?version=3067 [status:409 request:0.001s]\n",
      "PUT http://localhost:9200/conc/nop/1?version=3069 [status:409 request:0.002s]\n",
      "PUT http://localhost:9200/conc/nop/1?version=3071 [status:409 request:0.002s]\n",
      "PUT http://localhost:9200/conc/nop/1?version=3073 [status:409 request:0.002s]\n",
      "PUT http://localhost:9200/conc/nop/1?version=3075 [status:409 request:0.002s]\n",
      "PUT http://localhost:9200/conc/nop/1?version=3077 [status:409 request:0.001s]\n",
      "PUT http://localhost:9200/conc/nop/1?version=3079 [status:409 request:0.002s]\n",
      "PUT http://localhost:9200/conc/nop/1?version=3081 [status:409 request:0.002s]\n",
      "PUT http://localhost:9200/conc/nop/1?version=3083 [status:409 request:0.002s]\n",
      "PUT http://localhost:9200/conc/nop/1?version=3085 [status:409 request:0.001s]\n",
      "PUT http://localhost:9200/conc/nop/1?version=3087 [status:409 request:0.002s]\n",
      "PUT http://localhost:9200/conc/nop/1?version=3089 [status:409 request:0.002s]\n",
      "PUT http://localhost:9200/conc/nop/1?version=3091 [status:409 request:0.002s]\n",
      "PUT http://localhost:9200/conc/nop/1?version=3093 [status:409 request:0.002s]\n",
      "PUT http://localhost:9200/conc/nop/1?version=3095 [status:409 request:0.001s]\n",
      "PUT http://localhost:9200/conc/nop/1?version=3097 [status:409 request:0.001s]\n",
      "PUT http://localhost:9200/conc/nop/1?version=3099 [status:409 request:0.002s]\n",
      "PUT http://localhost:9200/conc/nop/1?version=3101 [status:409 request:0.001s]\n",
      "PUT http://localhost:9200/conc/nop/1?version=3103 [status:409 request:0.002s]\n",
      "PUT http://localhost:9200/conc/nop/1?version=3105 [status:409 request:0.002s]\n",
      "PUT http://localhost:9200/conc/nop/1?version=3107 [status:409 request:0.002s]\n",
      "PUT http://localhost:9200/conc/nop/1?version=3109 [status:409 request:0.002s]\n",
      "PUT http://localhost:9200/conc/nop/1?version=3111 [status:409 request:0.002s]\n",
      "PUT http://localhost:9200/conc/nop/1?version=3113 [status:409 request:0.001s]\n",
      "PUT http://localhost:9200/conc/nop/1?version=3115 [status:409 request:0.001s]\n",
      "PUT http://localhost:9200/conc/nop/1?version=3117 [status:409 request:0.002s]\n",
      "PUT http://localhost:9200/conc/nop/1?version=3119 [status:409 request:0.001s]\n",
      "PUT http://localhost:9200/conc/nop/1?version=3121 [status:409 request:0.002s]\n",
      "PUT http://localhost:9200/conc/nop/1?version=3123 [status:409 request:0.002s]\n",
      "PUT http://localhost:9200/conc/nop/1?version=3125 [status:409 request:0.001s]\n",
      "PUT http://localhost:9200/conc/nop/1?version=3127 [status:409 request:0.002s]\n",
      "PUT http://localhost:9200/conc/nop/1?version=3129 [status:409 request:0.002s]\n",
      "PUT http://localhost:9200/conc/nop/1?version=3131 [status:409 request:0.002s]\n",
      "PUT http://localhost:9200/conc/nop/1?version=3133 [status:409 request:0.002s]\n",
      "PUT http://localhost:9200/conc/nop/1?version=3135 [status:409 request:0.001s]\n",
      "PUT http://localhost:9200/conc/nop/1?version=3137 [status:409 request:0.001s]\n",
      "PUT http://localhost:9200/conc/nop/1?version=3139 [status:409 request:0.002s]\n",
      "PUT http://localhost:9200/conc/nop/1?version=3141 [status:409 request:0.002s]\n",
      "PUT http://localhost:9200/conc/nop/1?version=3143 [status:409 request:0.001s]\n",
      "PUT http://localhost:9200/conc/nop/1?version=3145 [status:409 request:0.002s]\n",
      "PUT http://localhost:9200/conc/nop/1?version=3147 [status:409 request:0.002s]\n",
      "PUT http://localhost:9200/conc/nop/1?version=3149 [status:409 request:0.002s]\n",
      "PUT http://localhost:9200/conc/nop/1?version=3151 [status:409 request:0.001s]\n",
      "PUT http://localhost:9200/conc/nop/1?version=3153 [status:409 request:0.002s]\n",
      "PUT http://localhost:9200/conc/nop/1?version=3155 [status:409 request:0.001s]\n"
     ]
    },
    {
     "name": "stdout",
     "output_type": "stream",
     "text": [
      "[30792] finished, retries: 47\n",
      "[30793] finished, retries: 50\n",
      "final count: 200\n"
     ]
    }
   ],
   "source": [
    "e.index(body={'count': 0}, **_conc_ctx)\n",
    "print('indexed count document')\n",
    "\n",
    "\n",
    "def loop():\n",
    "    # the elasticsearch client is not thread-safe\n",
    "    cli = es.Elasticsearch([{ 'host': 'localhost', 'port': 9200 }])\n",
    "    \n",
    "    pid = '[{}]'.format(os.getpid())\n",
    "    print(pid, 'starting')\n",
    "    \n",
    "    retries = 0\n",
    "    for i in range(100):\n",
    "        worked = False\n",
    "        while not worked:\n",
    "            res = cli.get(**_conc_ctx)     \n",
    "            version = res['_version']\n",
    "            count = res['_source']['count']\n",
    "            \n",
    "            try:\n",
    "                cli.index(body={'count': count + 1}, version=version, **_conc_ctx);\n",
    "                worked = True\n",
    "            except es.exceptions.ConflictError:\n",
    "                retries += 1\n",
    "        \n",
    "    print(pid, 'finished, retries:', retries)\n",
    "\n",
    "p1 = mp.Process(target=loop)\n",
    "p2 = mp.Process(target=loop)\n",
    "\n",
    "print('initial count', e.get(**_conc_ctx)['_source']['count'])\n",
    "\n",
    "p1.start()\n",
    "p2.start()\n",
    "\n",
    "p1.join()\n",
    "p2.join()\n",
    "\n",
    "print('final count:', e.get(**_conc_ctx)['_source']['count'])"
   ]
  },
  {
   "cell_type": "markdown",
   "metadata": {},
   "source": [
    "## Partial Document Updates\n",
    "\n",
    "### Using a doc body"
   ]
  },
  {
   "cell_type": "code",
   "execution_count": 78,
   "metadata": {},
   "outputs": [
    {
     "name": "stdout",
     "output_type": "stream",
     "text": [
      "updating id=1 document\n",
      "{'_id': '1',\n",
      " '_index': 'blog',\n",
      " '_primary_term': 1,\n",
      " '_seq_no': 14,\n",
      " '_shards': {'failed': 0, 'successful': 1, 'total': 2},\n",
      " '_type': 'nope',\n",
      " '_version': 15,\n",
      " 'result': 'updated'}\n",
      "new document\n",
      "{'date': '2018/27/04',\n",
      " 'tags': ['test'],\n",
      " 'text': 'This is now another text',\n",
      " 'title': 'The first blog post',\n",
      " 'views': 0}\n"
     ]
    }
   ],
   "source": [
    "# adding \"tags\" and \"views\" to blog posts\n",
    "print('updating id=1 document')\n",
    "pp(proxy(e.update, id=1, body={'doc': {'tags': ['test'], 'views': 0}}))\n",
    "\n",
    "print('new document')\n",
    "pp(proxy(e.get, id=1)['_source'])\n"
   ]
  },
  {
   "cell_type": "markdown",
   "metadata": {},
   "source": [
    "### Using scripts"
   ]
  },
  {
   "cell_type": "code",
   "execution_count": 88,
   "metadata": {},
   "outputs": [
    {
     "name": "stdout",
     "output_type": "stream",
     "text": [
      "incrementing views on id=1\n",
      "{'_id': '1',\n",
      " '_index': 'blog',\n",
      " '_primary_term': 1,\n",
      " '_seq_no': 18,\n",
      " '_shards': {'failed': 0, 'successful': 1, 'total': 2},\n",
      " '_type': 'nope',\n",
      " '_version': 19,\n",
      " 'result': 'updated'}\n",
      "new document state\n",
      "{'date': '2018/27/04',\n",
      " 'tags': ['test'],\n",
      " 'text': 'This is now another text',\n",
      " 'title': 'The first blog post',\n",
      " 'views': 4}\n"
     ]
    }
   ],
   "source": [
    "print('incrementing views on id=1')\n",
    "body = {'script': 'ctx._source.views += 1'}\n",
    "pp(proxy(e.update, id=1, body=body, retry_on_conflict=1))\n",
    "\n",
    "print('new document state')\n",
    "pp(proxy(e.get, id=1)['_source'])"
   ]
  },
  {
   "cell_type": "markdown",
   "metadata": {},
   "source": [
    "### Set default values using upsert"
   ]
  },
  {
   "cell_type": "code",
   "execution_count": 94,
   "metadata": {},
   "outputs": [
    {
     "name": "stderr",
     "output_type": "stream",
     "text": [
      "POST http://localhost:9200/blog/nope/2/_update?retry_on_conflict=1 [status:400 request:0.002s]\n"
     ]
    },
    {
     "name": "stdout",
     "output_type": "stream",
     "text": [
      "{'_id': '2',\n",
      " '_index': 'blog',\n",
      " '_source': {'date': '2018/05/03',\n",
      "             'text': 'Still trying this out...',\n",
      "             'title': 'The second blog post'},\n",
      " '_type': 'nope',\n",
      " '_version': 1,\n",
      " 'found': True}\n",
      "incrementing views on id=2\n"
     ]
    },
    {
     "ename": "RequestError",
     "evalue": "TransportError(400, 'illegal_argument_exception', '[DbF5o3U][172.17.0.2:9300][indices:data/write/update[s]]')",
     "output_type": "error",
     "traceback": [
      "\u001b[0;31m---------------------------------------------------------------------------\u001b[0m",
      "\u001b[0;31mRequestError\u001b[0m                              Traceback (most recent call last)",
      "\u001b[0;32m<ipython-input-94-f0d9634d9ce4>\u001b[0m in \u001b[0;36m<module>\u001b[0;34m()\u001b[0m\n\u001b[1;32m      7\u001b[0m \u001b[0;34m\u001b[0m\u001b[0m\n\u001b[1;32m      8\u001b[0m \u001b[0mprint\u001b[0m\u001b[0;34m(\u001b[0m\u001b[0;34m'incrementing views on id=2'\u001b[0m\u001b[0;34m)\u001b[0m\u001b[0;34m\u001b[0m\u001b[0m\n\u001b[0;32m----> 9\u001b[0;31m \u001b[0mpp\u001b[0m\u001b[0;34m(\u001b[0m\u001b[0mproxy\u001b[0m\u001b[0;34m(\u001b[0m\u001b[0me\u001b[0m\u001b[0;34m.\u001b[0m\u001b[0mupdate\u001b[0m\u001b[0;34m,\u001b[0m \u001b[0mid\u001b[0m\u001b[0;34m=\u001b[0m\u001b[0;36m2\u001b[0m\u001b[0;34m,\u001b[0m \u001b[0mbody\u001b[0m\u001b[0;34m=\u001b[0m\u001b[0mbody\u001b[0m\u001b[0;34m,\u001b[0m \u001b[0mretry_on_conflict\u001b[0m\u001b[0;34m=\u001b[0m\u001b[0;36m1\u001b[0m\u001b[0;34m)\u001b[0m\u001b[0;34m)\u001b[0m\u001b[0;34m\u001b[0m\u001b[0m\n\u001b[0m\u001b[1;32m     10\u001b[0m \u001b[0;34m\u001b[0m\u001b[0m\n\u001b[1;32m     11\u001b[0m \u001b[0mprint\u001b[0m\u001b[0;34m(\u001b[0m\u001b[0;34m'new document state'\u001b[0m\u001b[0;34m)\u001b[0m\u001b[0;34m\u001b[0m\u001b[0m\n",
      "\u001b[0;32m<ipython-input-7-c3d4f0fc0dca>\u001b[0m in \u001b[0;36mproxy\u001b[0;34m(fn, *args, **kwargs)\u001b[0m\n\u001b[1;32m      2\u001b[0m \u001b[0;34m\u001b[0m\u001b[0m\n\u001b[1;32m      3\u001b[0m \u001b[0;32mdef\u001b[0m \u001b[0mproxy\u001b[0m\u001b[0;34m(\u001b[0m\u001b[0mfn\u001b[0m\u001b[0;34m,\u001b[0m \u001b[0;34m*\u001b[0m\u001b[0margs\u001b[0m\u001b[0;34m,\u001b[0m \u001b[0;34m**\u001b[0m\u001b[0mkwargs\u001b[0m\u001b[0;34m)\u001b[0m\u001b[0;34m:\u001b[0m\u001b[0;34m\u001b[0m\u001b[0m\n\u001b[0;32m----> 4\u001b[0;31m     \u001b[0;32mreturn\u001b[0m \u001b[0mfn\u001b[0m\u001b[0;34m(\u001b[0m\u001b[0;34m*\u001b[0m\u001b[0margs\u001b[0m\u001b[0;34m,\u001b[0m \u001b[0;34m**\u001b[0m\u001b[0;34m{\u001b[0m\u001b[0;34m**\u001b[0m\u001b[0midx\u001b[0m\u001b[0;34m,\u001b[0m \u001b[0;34m**\u001b[0m\u001b[0mkwargs\u001b[0m\u001b[0;34m}\u001b[0m\u001b[0;34m)\u001b[0m\u001b[0;34m\u001b[0m\u001b[0m\n\u001b[0m\u001b[1;32m      5\u001b[0m \u001b[0;34m\u001b[0m\u001b[0m\n\u001b[1;32m      6\u001b[0m \u001b[0mret\u001b[0m \u001b[0;34m=\u001b[0m \u001b[0me\u001b[0m\u001b[0;34m.\u001b[0m\u001b[0mindices\u001b[0m\u001b[0;34m.\u001b[0m\u001b[0mcreate\u001b[0m\u001b[0;34m(\u001b[0m\u001b[0mindex\u001b[0m\u001b[0;34m=\u001b[0m\u001b[0midx\u001b[0m\u001b[0;34m[\u001b[0m\u001b[0;34m'index'\u001b[0m\u001b[0;34m]\u001b[0m\u001b[0;34m)\u001b[0m\u001b[0;34m\u001b[0m\u001b[0m\n",
      "\u001b[0;32m~/Complex/vnv/ungol-es/lib/python3.6/site-packages/elasticsearch/client/utils.py\u001b[0m in \u001b[0;36m_wrapped\u001b[0;34m(*args, **kwargs)\u001b[0m\n\u001b[1;32m     74\u001b[0m                 \u001b[0;32mif\u001b[0m \u001b[0mp\u001b[0m \u001b[0;32min\u001b[0m \u001b[0mkwargs\u001b[0m\u001b[0;34m:\u001b[0m\u001b[0;34m\u001b[0m\u001b[0m\n\u001b[1;32m     75\u001b[0m                     \u001b[0mparams\u001b[0m\u001b[0;34m[\u001b[0m\u001b[0mp\u001b[0m\u001b[0;34m]\u001b[0m \u001b[0;34m=\u001b[0m \u001b[0mkwargs\u001b[0m\u001b[0;34m.\u001b[0m\u001b[0mpop\u001b[0m\u001b[0;34m(\u001b[0m\u001b[0mp\u001b[0m\u001b[0;34m)\u001b[0m\u001b[0;34m\u001b[0m\u001b[0m\n\u001b[0;32m---> 76\u001b[0;31m             \u001b[0;32mreturn\u001b[0m \u001b[0mfunc\u001b[0m\u001b[0;34m(\u001b[0m\u001b[0;34m*\u001b[0m\u001b[0margs\u001b[0m\u001b[0;34m,\u001b[0m \u001b[0mparams\u001b[0m\u001b[0;34m=\u001b[0m\u001b[0mparams\u001b[0m\u001b[0;34m,\u001b[0m \u001b[0;34m**\u001b[0m\u001b[0mkwargs\u001b[0m\u001b[0;34m)\u001b[0m\u001b[0;34m\u001b[0m\u001b[0m\n\u001b[0m\u001b[1;32m     77\u001b[0m         \u001b[0;32mreturn\u001b[0m \u001b[0m_wrapped\u001b[0m\u001b[0;34m\u001b[0m\u001b[0m\n\u001b[1;32m     78\u001b[0m     \u001b[0;32mreturn\u001b[0m \u001b[0m_wrapper\u001b[0m\u001b[0;34m\u001b[0m\u001b[0m\n",
      "\u001b[0;32m~/Complex/vnv/ungol-es/lib/python3.6/site-packages/elasticsearch/client/__init__.py\u001b[0m in \u001b[0;36mupdate\u001b[0;34m(self, index, doc_type, id, body, params)\u001b[0m\n\u001b[1;32m    545\u001b[0m                 \u001b[0;32mraise\u001b[0m \u001b[0mValueError\u001b[0m\u001b[0;34m(\u001b[0m\u001b[0;34m\"Empty value passed for a required argument.\"\u001b[0m\u001b[0;34m)\u001b[0m\u001b[0;34m\u001b[0m\u001b[0m\n\u001b[1;32m    546\u001b[0m         return self.transport.perform_request('POST', _make_path(index,\n\u001b[0;32m--> 547\u001b[0;31m             doc_type, id, '_update'), params=params, body=body)\n\u001b[0m\u001b[1;32m    548\u001b[0m \u001b[0;34m\u001b[0m\u001b[0m\n\u001b[1;32m    549\u001b[0m     @query_params('_source', '_source_exclude', '_source_include',\n",
      "\u001b[0;32m~/Complex/vnv/ungol-es/lib/python3.6/site-packages/elasticsearch/transport.py\u001b[0m in \u001b[0;36mperform_request\u001b[0;34m(self, method, url, headers, params, body)\u001b[0m\n\u001b[1;32m    312\u001b[0m \u001b[0;34m\u001b[0m\u001b[0m\n\u001b[1;32m    313\u001b[0m             \u001b[0;32mtry\u001b[0m\u001b[0;34m:\u001b[0m\u001b[0;34m\u001b[0m\u001b[0m\n\u001b[0;32m--> 314\u001b[0;31m                 \u001b[0mstatus\u001b[0m\u001b[0;34m,\u001b[0m \u001b[0mheaders_response\u001b[0m\u001b[0;34m,\u001b[0m \u001b[0mdata\u001b[0m \u001b[0;34m=\u001b[0m \u001b[0mconnection\u001b[0m\u001b[0;34m.\u001b[0m\u001b[0mperform_request\u001b[0m\u001b[0;34m(\u001b[0m\u001b[0mmethod\u001b[0m\u001b[0;34m,\u001b[0m \u001b[0murl\u001b[0m\u001b[0;34m,\u001b[0m \u001b[0mparams\u001b[0m\u001b[0;34m,\u001b[0m \u001b[0mbody\u001b[0m\u001b[0;34m,\u001b[0m \u001b[0mheaders\u001b[0m\u001b[0;34m=\u001b[0m\u001b[0mheaders\u001b[0m\u001b[0;34m,\u001b[0m \u001b[0mignore\u001b[0m\u001b[0;34m=\u001b[0m\u001b[0mignore\u001b[0m\u001b[0;34m,\u001b[0m \u001b[0mtimeout\u001b[0m\u001b[0;34m=\u001b[0m\u001b[0mtimeout\u001b[0m\u001b[0;34m)\u001b[0m\u001b[0;34m\u001b[0m\u001b[0m\n\u001b[0m\u001b[1;32m    315\u001b[0m \u001b[0;34m\u001b[0m\u001b[0m\n\u001b[1;32m    316\u001b[0m             \u001b[0;32mexcept\u001b[0m \u001b[0mTransportError\u001b[0m \u001b[0;32mas\u001b[0m \u001b[0me\u001b[0m\u001b[0;34m:\u001b[0m\u001b[0;34m\u001b[0m\u001b[0m\n",
      "\u001b[0;32m~/Complex/vnv/ungol-es/lib/python3.6/site-packages/elasticsearch/connection/http_urllib3.py\u001b[0m in \u001b[0;36mperform_request\u001b[0;34m(self, method, url, params, body, timeout, ignore, headers)\u001b[0m\n\u001b[1;32m    178\u001b[0m         \u001b[0;32mif\u001b[0m \u001b[0;32mnot\u001b[0m \u001b[0;34m(\u001b[0m\u001b[0;36m200\u001b[0m \u001b[0;34m<=\u001b[0m \u001b[0mresponse\u001b[0m\u001b[0;34m.\u001b[0m\u001b[0mstatus\u001b[0m \u001b[0;34m<\u001b[0m \u001b[0;36m300\u001b[0m\u001b[0;34m)\u001b[0m \u001b[0;32mand\u001b[0m \u001b[0mresponse\u001b[0m\u001b[0;34m.\u001b[0m\u001b[0mstatus\u001b[0m \u001b[0;32mnot\u001b[0m \u001b[0;32min\u001b[0m \u001b[0mignore\u001b[0m\u001b[0;34m:\u001b[0m\u001b[0;34m\u001b[0m\u001b[0m\n\u001b[1;32m    179\u001b[0m             \u001b[0mself\u001b[0m\u001b[0;34m.\u001b[0m\u001b[0mlog_request_fail\u001b[0m\u001b[0;34m(\u001b[0m\u001b[0mmethod\u001b[0m\u001b[0;34m,\u001b[0m \u001b[0mfull_url\u001b[0m\u001b[0;34m,\u001b[0m \u001b[0murl\u001b[0m\u001b[0;34m,\u001b[0m \u001b[0mbody\u001b[0m\u001b[0;34m,\u001b[0m \u001b[0mduration\u001b[0m\u001b[0;34m,\u001b[0m \u001b[0mresponse\u001b[0m\u001b[0;34m.\u001b[0m\u001b[0mstatus\u001b[0m\u001b[0;34m,\u001b[0m \u001b[0mraw_data\u001b[0m\u001b[0;34m)\u001b[0m\u001b[0;34m\u001b[0m\u001b[0m\n\u001b[0;32m--> 180\u001b[0;31m             \u001b[0mself\u001b[0m\u001b[0;34m.\u001b[0m\u001b[0m_raise_error\u001b[0m\u001b[0;34m(\u001b[0m\u001b[0mresponse\u001b[0m\u001b[0;34m.\u001b[0m\u001b[0mstatus\u001b[0m\u001b[0;34m,\u001b[0m \u001b[0mraw_data\u001b[0m\u001b[0;34m)\u001b[0m\u001b[0;34m\u001b[0m\u001b[0m\n\u001b[0m\u001b[1;32m    181\u001b[0m \u001b[0;34m\u001b[0m\u001b[0m\n\u001b[1;32m    182\u001b[0m         self.log_request_success(method, full_url, url, body, response.status,\n",
      "\u001b[0;32m~/Complex/vnv/ungol-es/lib/python3.6/site-packages/elasticsearch/connection/base.py\u001b[0m in \u001b[0;36m_raise_error\u001b[0;34m(self, status_code, raw_data)\u001b[0m\n\u001b[1;32m    123\u001b[0m             \u001b[0mlogger\u001b[0m\u001b[0;34m.\u001b[0m\u001b[0mwarning\u001b[0m\u001b[0;34m(\u001b[0m\u001b[0;34m'Undecodable raw error response from server: %s'\u001b[0m\u001b[0;34m,\u001b[0m \u001b[0merr\u001b[0m\u001b[0;34m)\u001b[0m\u001b[0;34m\u001b[0m\u001b[0m\n\u001b[1;32m    124\u001b[0m \u001b[0;34m\u001b[0m\u001b[0m\n\u001b[0;32m--> 125\u001b[0;31m         \u001b[0;32mraise\u001b[0m \u001b[0mHTTP_EXCEPTIONS\u001b[0m\u001b[0;34m.\u001b[0m\u001b[0mget\u001b[0m\u001b[0;34m(\u001b[0m\u001b[0mstatus_code\u001b[0m\u001b[0;34m,\u001b[0m \u001b[0mTransportError\u001b[0m\u001b[0;34m)\u001b[0m\u001b[0;34m(\u001b[0m\u001b[0mstatus_code\u001b[0m\u001b[0;34m,\u001b[0m \u001b[0merror_message\u001b[0m\u001b[0;34m,\u001b[0m \u001b[0madditional_info\u001b[0m\u001b[0;34m)\u001b[0m\u001b[0;34m\u001b[0m\u001b[0m\n\u001b[0m\u001b[1;32m    126\u001b[0m \u001b[0;34m\u001b[0m\u001b[0m\n\u001b[1;32m    127\u001b[0m \u001b[0;34m\u001b[0m\u001b[0m\n",
      "\u001b[0;31mRequestError\u001b[0m: TransportError(400, 'illegal_argument_exception', '[DbF5o3U][172.17.0.2:9300][indices:data/write/update[s]]')"
     ]
    }
   ],
   "source": [
    "pp(proxy(e.get, id=2))\n",
    "\n",
    "body = {\n",
    "    'script': 'ctx._source.views += 1',\n",
    "    'params': {\n",
    "        'views': 10000,}}\n",
    "\n",
    "print('incrementing views on id=2')\n",
    "pp(proxy(e.update, id=2, body=body, retry_on_conflict=1))\n",
    "\n",
    "print('new document state')\n",
    "pp(proxy(e.get, id=2)['_source'])"
   ]
  },
  {
   "cell_type": "markdown",
   "metadata": {},
   "source": [
    "## Obtain multiple documents at once"
   ]
  },
  {
   "cell_type": "code",
   "execution_count": 95,
   "metadata": {},
   "outputs": [
    {
     "name": "stdout",
     "output_type": "stream",
     "text": [
      "{'docs': [{'_id': '1',\n",
      "           '_index': 'blog',\n",
      "           '_source': {'date': '2018/27/04',\n",
      "                       'tags': ['test'],\n",
      "                       'text': 'This is now another text',\n",
      "                       'title': 'The first blog post',\n",
      "                       'views': 4},\n",
      "           '_type': 'nope',\n",
      "           '_version': 19,\n",
      "           'found': True},\n",
      "          {'_id': '2',\n",
      "           '_index': 'blog',\n",
      "           '_source': {'date': '2018/05/03',\n",
      "                       'text': 'Still trying this out...',\n",
      "                       'title': 'The second blog post'},\n",
      "           '_type': 'nope',\n",
      "           '_version': 1,\n",
      "           'found': True}]}\n"
     ]
    }
   ],
   "source": [
    "pp(proxy(e.mget, body={\"ids\": [1, 2]}))"
   ]
  },
  {
   "cell_type": "markdown",
   "metadata": {},
   "source": [
    "## Bulk Operations"
   ]
  },
  {
   "cell_type": "code",
   "execution_count": 110,
   "metadata": {},
   "outputs": [
    {
     "name": "stdout",
     "output_type": "stream",
     "text": [
      "('{\"delete\": {\"_index\": \"blog\", \"_type\": \"nope\", \"_id\": \"2\"}}\\n'\n",
      " '{\"create\": {\"_index\": \"blog\", \"_type\": \"nope\", \"_id\": \"2\"}}\\n'\n",
      " '{\"title\": \"The first bulk blog post\"}\\n'\n",
      " '{\"update\": {\"_index\": \"blog\", \"_type\": \"nope\", \"_id\": \"2\"}}\\n'\n",
      " '{\"doc\": {\"text\": \"Aleph! Pape satan, pape satan!\"}}\\n'\n",
      " '{\"index\": {\"_index\": \"blog\", \"_type\": \"nope\"}}\\n'\n",
      " '{\"title\": \"The second bulk blog post\", \"text\": \"should have an autogenerated '\n",
      " 'ID\"}\\n')\n",
      "execute\n",
      "{'errors': False,\n",
      " 'items': [{'delete': {'_id': '2',\n",
      "                       '_index': 'blog',\n",
      "                       '_primary_term': 1,\n",
      "                       '_seq_no': 4,\n",
      "                       '_shards': {'failed': 0, 'successful': 1, 'total': 2},\n",
      "                       '_type': 'nope',\n",
      "                       '_version': 5,\n",
      "                       'result': 'deleted',\n",
      "                       'status': 200}},\n",
      "           {'create': {'_id': '2',\n",
      "                       '_index': 'blog',\n",
      "                       '_primary_term': 1,\n",
      "                       '_seq_no': 5,\n",
      "                       '_shards': {'failed': 0, 'successful': 1, 'total': 2},\n",
      "                       '_type': 'nope',\n",
      "                       '_version': 6,\n",
      "                       'result': 'created',\n",
      "                       'status': 201}},\n",
      "           {'update': {'_id': '2',\n",
      "                       '_index': 'blog',\n",
      "                       '_primary_term': 1,\n",
      "                       '_seq_no': 6,\n",
      "                       '_shards': {'failed': 0, 'successful': 1, 'total': 2},\n",
      "                       '_type': 'nope',\n",
      "                       '_version': 7,\n",
      "                       'result': 'updated',\n",
      "                       'status': 200}},\n",
      "           {'index': {'_id': 'o9N1T2MBiyfvdTN_bC1Z',\n",
      "                      '_index': 'blog',\n",
      "                      '_primary_term': 1,\n",
      "                      '_seq_no': 0,\n",
      "                      '_shards': {'failed': 0, 'successful': 1, 'total': 2},\n",
      "                      '_type': 'nope',\n",
      "                      '_version': 1,\n",
      "                      'result': 'created',\n",
      "                      'status': 201}}],\n",
      " 'took': 40}\n"
     ]
    }
   ],
   "source": [
    "bulk = \"\"\"{{\"delete\": {{\"_index\": \"{index}\", \"_type\": \"{doc_type}\", \"_id\": \"2\"}}}}\n",
    "{{\"create\": {{\"_index\": \"{index}\", \"_type\": \"{doc_type}\", \"_id\": \"2\"}}}}\n",
    "{{\"title\": \"The first bulk blog post\"}}\n",
    "{{\"update\": {{\"_index\": \"{index}\", \"_type\": \"{doc_type}\", \"_id\": \"2\"}}}}\n",
    "{{\"doc\": {{\"text\": \"Aleph! Pape satan, pape satan!\"}}}}\n",
    "{{\"index\": {{\"_index\": \"{index}\", \"_type\": \"{doc_type}\"}}}}\n",
    "{{\"title\": \"The second bulk blog post\", \"text\": \"should have an autogenerated ID\"}}\n",
    "\"\"\".format(**idx)\n",
    "\n",
    "pp(bulk)\n",
    "\n",
    "print('execute')\n",
    "pp(proxy(e.bulk, body=bulk))"
   ]
  },
  {
   "cell_type": "code",
   "execution_count": 111,
   "metadata": {},
   "outputs": [
    {
     "name": "stdout",
     "output_type": "stream",
     "text": [
      "{'_shards': {'failed': 0, 'skipped': 0, 'successful': 5, 'total': 5},\n",
      " 'hits': {'hits': [{'_id': 'o9N1T2MBiyfvdTN_bC1Z',\n",
      "                    '_index': 'blog',\n",
      "                    '_score': 1.0,\n",
      "                    '_source': {'text': 'should have an autogenerated ID',\n",
      "                                'title': 'The second bulk blog post'},\n",
      "                    '_type': 'nope'},\n",
      "                   {'_id': '2',\n",
      "                    '_index': 'blog',\n",
      "                    '_score': 1.0,\n",
      "                    '_source': {'text': 'Aleph! Pape satan, pape satan!',\n",
      "                                'title': 'The first bulk blog post'},\n",
      "                    '_type': 'nope'},\n",
      "                   {'_id': '1',\n",
      "                    '_index': 'blog',\n",
      "                    '_score': 1.0,\n",
      "                    '_source': {'date': '2018/27/04',\n",
      "                                'tags': ['test'],\n",
      "                                'text': 'This is now another text',\n",
      "                                'title': 'The first blog post',\n",
      "                                'views': 4},\n",
      "                    '_type': 'nope'}],\n",
      "          'max_score': 1.0,\n",
      "          'total': 3},\n",
      " 'timed_out': False,\n",
      " 'took': 12}\n"
     ]
    }
   ],
   "source": [
    "pp(proxy(e.search))"
   ]
  }
 ],
 "metadata": {
  "kernelspec": {
   "display_name": "Python 3",
   "language": "python",
   "name": "python3"
  },
  "language_info": {
   "codemirror_mode": {
    "name": "ipython",
    "version": 3
   },
   "file_extension": ".py",
   "mimetype": "text/x-python",
   "name": "python",
   "nbconvert_exporter": "python",
   "pygments_lexer": "ipython3",
   "version": "3.6.4"
  }
 },
 "nbformat": 4,
 "nbformat_minor": 2
}
