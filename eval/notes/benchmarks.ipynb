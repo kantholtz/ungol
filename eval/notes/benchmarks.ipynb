{
 "cells": [
  {
   "cell_type": "code",
   "execution_count": 2,
   "metadata": {
    "autoscroll": false,
    "collapsed": false,
    "ein.hycell": false,
    "ein.tags": "worksheet-0",
    "slideshow": {
     "slide_type": "-"
    }
   },
   "outputs": [],
   "source": [
    "CLR = {\n",
    "    'blue': ['#e0f3ff', '#aadeff', '#2bb1ff', '#15587f', '#0b2c40'],\n",
    "    'gold': ['#fff3dc', '#ffebc7', '#ffddab', '#b59d79', '#5C4938'],\n",
    "    'red':  ['#ffd8e8', '#ff9db6', '#ff3e72', '#6B404C', '#521424'],\n",
    "    'gray': ['#eeeeee', '#bbbbbb', '#999999', '#666666', '#333333'],\n",
    "}"
   ]
  },
  {
   "cell_type": "code",
   "execution_count": 23,
   "metadata": {
    "autoscroll": false,
    "collapsed": false,
    "ein.hycell": false,
    "ein.tags": "worksheet-0",
    "slideshow": {
     "slide_type": "-"
    }
   },
   "outputs": [],
   "source": [
    "import pathlib\n",
    "\n",
    "import matplotlib.pyplot as plt\n",
    "import matplotlib.patches as ppt"
   ]
  },
  {
   "cell_type": "code",
   "execution_count": 4,
   "metadata": {
    "autoscroll": false,
    "collapsed": false,
    "ein.hycell": false,
    "ein.tags": "worksheet-0",
    "slideshow": {
     "slide_type": "-"
    }
   },
   "outputs": [],
   "source": [
    "d_loop = [(10, 0.9326189901912585), (20, 3.431747987633571), (30, 7.900712997070514), (40, 23.176472008344717), (50, 30.817242004559375), (60, 37.93227899586782), (70, 47.18338800012134), (80, 61.70217400358524), (90, 78.50472899735905), (100, 97.76843499275856), (110, 118.02218899538275), (120, 141.43822199548595), (200, 439.25697400118224), (250, 717.5912509992486)]\n",
    "d_vectorized = [(10, 1.4458689984166995), (20, 5.35220600431785), (30, 10.920982997049578), (40, 17.124196005170234), (50, 24.84369200828951), (60, 35.458537997328676), (70, 48.63317900162656), (80, 62.86764900141861), (90, 79.89497699600179), (100, 98.36747299414128), (110, 119.616230003885), (120, 141.98320099967532), (200, 388.0320140015101), (250, 581.6465469979448)]\n",
    "d_lookup = [(10, 0.06900400330778211), (20, 0.11245900532230735), (30, 0.15335599891841412), (40, 0.4065209941472858), (50, 0.37285100552253425), (60, 0.6236290064407513), (70, 0.8157380070770159), (80, 1.0058790066977963), (90, 1.3296270044520497), (100, 1.5350780013250187), (110, 1.9105770043097436), (120, 2.305513000464998), (200, 6.753337002010085), (250, 9.713487001135945), (400, 30.437451001489535), (500, 47.650370994233526), (1000, 191.76472099206876), (2000, 738.4437500004424)]"
   ]
  },
  {
   "cell_type": "code",
   "execution_count": 24,
   "metadata": {
    "autoscroll": false,
    "collapsed": false,
    "ein.hycell": false,
    "ein.tags": "worksheet-0",
    "slideshow": {
     "slide_type": "-"
    }
   },
   "outputs": [],
   "source": [
    "def fig_before(title: str, xlabel, ylabel):\n",
    "    fig = plt.figure()\n",
    "    ax = fig.add_subplot(111)\n",
    "    ax.set_title(title)\n",
    "    ax.set_xlabel(xlabel)\n",
    "    ax.set_ylabel(ylabel)\n",
    "    return fig, ax\n",
    "\n",
    "out_dir = pathlib.Path('opt/')\n",
    "def fig_after(fig, ax, patches=None, fname=None):\n",
    "    if patches:\n",
    "        ax.legend(handles=patches)\n",
    "\n",
    "    if display:\n",
    "        plt.show(fig)\n",
    "    if fname:\n",
    "        for out_file in [str(out_dir/fname) + s for s in ('.png', '.svg')]:\n",
    "            print('saving to', out_file)\n",
    "            fig.savefig(out_file)\n",
    "\n",
    "    fig.clear()\n",
    "    plt.close(fig)"
   ]
  },
  {
   "cell_type": "code",
   "execution_count": 25,
   "metadata": {
    "autoscroll": false,
    "collapsed": false,
    "ein.hycell": false,
    "ein.tags": "worksheet-0",
    "slideshow": {
     "slide_type": "-"
    }
   },
   "outputs": [
    {
     "data": {
      "image/png": "[encoded data removed]",
      "text/plain": [
       "<Figure size 432x288 with 1 Axes>"
      ]
     },
     "metadata": {},
     "output_type": "display_data"
    },
    {
     "name": "stdout",
     "output_type": "stream",
     "text": [
      "saving to opt/benchmark.png\n",
      "saving to opt/benchmark.svg\n"
     ]
    }
   ],
   "source": [
    "fig, ax = fig_before('Performance Comparison', 'Token Count', 'Miliseconds')\n",
    "\n",
    "ax.set_xscale('log')\n",
    "\n",
    "data = (d_loop, d_vectorized, d_lookup)\n",
    "colors = (CLR['red'][2], CLR['blue'][2], CLR['gray'][4])\n",
    "names = ('loop', 'vectorized', 'lookup')\n",
    "\n",
    "patches = []\n",
    "for d, color, name in zip(data, colors, names):\n",
    "    x, y = zip(*d)\n",
    "    ax.plot([q**2 for q in x], y, color=color)\n",
    "    patches.append(ppt.Patch(color=color, label=name))\n",
    "\n",
    "ax.axvline(x=200**2, color='black', ls='dashed', lw=1)\n",
    "fig_after(fig, ax, patches=patches, fname='benchmark')"
   ]
  },
  {
   "cell_type": "code",
   "execution_count": 28,
   "metadata": {
    "autoscroll": false,
    "collapsed": false,
    "ein.hycell": false,
    "ein.tags": "worksheet-0",
    "slideshow": {
     "slide_type": "-"
    }
   },
   "outputs": [
    {
     "name": "stdout",
     "output_type": "stream",
     "text": [
      "\n",
      "10 0.9326189901912585\n",
      "20 3.431747987633571\n",
      "30 7.900712997070514\n",
      "40 23.176472008344717\n",
      "50 30.817242004559375\n",
      "60 37.93227899586782\n",
      "70 47.18338800012134\n",
      "80 61.70217400358524\n",
      "90 78.50472899735905\n",
      "100 97.76843499275856\n",
      "110 118.02218899538275\n",
      "120 141.43822199548595\n",
      "200 439.25697400118224\n",
      "250 717.5912509992486\n",
      "\n",
      "10 1.4458689984166995\n",
      "20 5.35220600431785\n",
      "30 10.920982997049578\n",
      "40 17.124196005170234\n",
      "50 24.84369200828951\n",
      "60 35.458537997328676\n",
      "70 48.63317900162656\n",
      "80 62.86764900141861\n",
      "90 79.89497699600179\n",
      "100 98.36747299414128\n",
      "110 119.616230003885\n",
      "120 141.98320099967532\n",
      "200 388.0320140015101\n",
      "250 581.6465469979448\n",
      "\n",
      "10 0.06900400330778211\n",
      "20 0.11245900532230735\n",
      "30 0.15335599891841412\n",
      "40 0.4065209941472858\n",
      "50 0.37285100552253425\n",
      "60 0.6236290064407513\n",
      "70 0.8157380070770159\n",
      "80 1.0058790066977963\n",
      "90 1.3296270044520497\n",
      "100 1.5350780013250187\n",
      "110 1.9105770043097436\n",
      "120 2.305513000464998\n",
      "200 6.753337002010085\n",
      "250 9.713487001135945\n",
      "400 30.437451001489535\n",
      "500 47.650370994233526\n",
      "1000 191.76472099206876\n",
      "2000 738.4437500004424\n"
     ]
    }
   ],
   "source": [
    "for ds in data:\n",
    "    print()\n",
    "    for k, v in ds:\n",
    "        print(k, v)"
   ]
  }
 ],
 "metadata": {
  "kernelspec": {
   "display_name": "ungol-es",
   "language": "python",
   "name": "ungol-es"
  },
  "language_info": {
   "codemirror_mode": {
    "name": "ipython",
    "version": 3
   },
   "file_extension": ".py",
   "mimetype": "text/x-python",
   "name": "python",
   "nbconvert_exporter": "python",
   "pygments_lexer": "ipython3",
   "version": "3.6.4"
  },
  "name": "benchmarks.ipynb"
 },
 "nbformat": 4,
 "nbformat_minor": 2
}
