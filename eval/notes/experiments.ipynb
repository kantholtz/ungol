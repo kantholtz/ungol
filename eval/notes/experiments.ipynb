{
 "cells": [
  {
   "cell_type": "code",
   "execution_count": 3,
   "metadata": {},
   "outputs": [],
   "source": [
    "CLR = {\n",
    "    'blue': ['#e0f3ff', '#aadeff', '#2bb1ff', '#15587f', '#0b2c40'],\n",
    "    'gold': ['#fff3dc', '#ffebc7', '#ffddab', '#b59d79', '#5C4938'],\n",
    "    'red':  ['#ffd8e8', '#ff9db6', '#ff3e72', '#6B404C', '#521424'],\n",
    "    'gray': ['#eeeeee', '#bbbbbb', '#999999', '#666666', '#333333'],\n",
    "}"
   ]
  },
  {
   "cell_type": "markdown",
   "metadata": {},
   "source": [
    "# Preselect-Dataset Experiments"
   ]
  },
  {
   "cell_type": "code",
   "execution_count": 13,
   "metadata": {},
   "outputs": [],
   "source": [
    "from ungol.retrieval.stats import ExperimentStats\n",
    "\n",
    "import attr\n",
    "import numpy as np\n",
    "from tabulate import tabulate\n",
    "import matplotlib.pyplot as plt\n",
    "import matplotlib.patches as ppt\n",
    "from tqdm import tqdm_notebook as tqdm\n",
    "\n",
    "import pickle\n",
    "import pathlib\n",
    "from collections import defaultdict\n",
    "\n",
    "from typing import List\n",
    "from typing import Dict"
   ]
  },
  {
   "cell_type": "code",
   "execution_count": 14,
   "metadata": {},
   "outputs": [],
   "source": [
    "# e.g. .../ungol_180921.750.1_rhwmd.adaptive-big.pickle\n",
    "\n",
    "folder = pathlib.Path('../opt/frozen/09-baseline')"
   ]
  },
  {
   "cell_type": "code",
   "execution_count": 15,
   "metadata": {},
   "outputs": [],
   "source": [
    "def listdict():\n",
    "    return defaultdict(list)\n",
    "\n",
    "@attr.s\n",
    "class Result:\n",
    "    \n",
    "    # e.g. 'rhwmd.adaptive-small'\n",
    "    fn: str = attr.ib()  \n",
    "    # size -> ExperimentStats collection\n",
    "    runs: Dict[int, List[ExperimentStats]] = attr.ib(default=attr.Factory(listdict))\n",
    "        \n",
    "    def mean_avg_prec(self, k: int):\n",
    "        maps = [exp.mean_avg_precision for exp in self.runs[k]]\n",
    "        return sum(maps) / len(maps)\n",
    "\n",
    "out_dir = pathlib.Path('opt/')\n",
    "\n",
    "def _fig_before(title: str, xlabel: str, ylabel: str):\n",
    "        fig = plt.figure()\n",
    "        ax = fig.add_subplot(111)\n",
    "        ax.set_title(title)\n",
    "        ax.set_xlabel(xlabel)\n",
    "        ax.set_ylabel(ylabel)\n",
    "        return fig, ax\n",
    "\n",
    "def _fig_after(fig, ax, patches=None, fname=None):\n",
    "    if patches:\n",
    "        ax.legend(handles=patches)\n",
    "    \n",
    "    if display:\n",
    "        plt.show(fig)\n",
    "    if fname:\n",
    "        for out_file in [str(out_dir/fname) + s for s in ('.png', '.svg')]:\n",
    "            print('saving to', out_file)\n",
    "            fig.savefig(out_file)\n",
    "\n",
    "    plt.close(fig)"
   ]
  },
  {
   "cell_type": "code",
   "execution_count": 22,
   "metadata": {},
   "outputs": [
    {
     "data": {
      "application/vnd.jupyter.widget-view+json": {
       "model_id": "8360af0bbf8f4c25ac4314fb6b9dc568",
       "version_major": 2,
       "version_minor": 0
      },
      "text/plain": [
       "HBox(children=(IntProgress(value=0, max=238), HTML(value='')))"
      ]
     },
     "metadata": {},
     "output_type": "display_data"
    },
    {
     "name": "stdout",
     "output_type": "stream",
     "text": [
      "\n",
      "done\n"
     ]
    }
   ],
   "source": [
    "results: Dict[str, Result] = dict()\n",
    "translate = {\n",
    "    'rhwmd.adaptive-big': 'rhwmd.big',\n",
    "    'rhwmd.adaptive-small': 'rhwmd.small',\n",
    "    'bm25.max': 'bm25',\n",
    "    'tfidf.max': 'tfidf',\n",
    "    'relaxed': 'wmd', }\n",
    "\n",
    "globs = [glob for glob in folder.glob('*.pickle')]\n",
    "for glob in tqdm(globs):\n",
    "    try:\n",
    "        _, serial, fn = glob.stem.split('_')  # e.g. 'ungol', '180921.250.3', 'rhwmd.adaptive-small'\n",
    "        date, size, run = serial.split('.')   # e.g. '180921', '250', '3'\n",
    "    except ValueError:\n",
    "        print(str(glob))\n",
    "        break\n",
    "        \n",
    "    size = int(size)\n",
    "    \n",
    "    if fn in translate:\n",
    "        fn = translate[fn]\n",
    "    \n",
    "    if fn not in results:\n",
    "        results[fn] = Result(fn=fn)\n",
    "    \n",
    "    with glob.open('rb') as fd:\n",
    "        exp = pickle.load(fd)\n",
    "    \n",
    "    results[fn].runs[size].append(exp)\n",
    "    \n",
    "print('done')"
   ]
  },
  {
   "cell_type": "code",
   "execution_count": 36,
   "metadata": {},
   "outputs": [
    {
     "name": "stdout",
     "output_type": "stream",
     "text": [
      "0.9347380917981482\n",
      "0.9409583261186169\n",
      "rhwmd.small\n",
      "   0.006632443073283841\n",
      "rhwmd.max\n",
      "   0.006619520910365396\n",
      "bm25\n",
      "   0.00466672479623293\n",
      "rhwmd.min\n",
      "   0.004696855645556684\n",
      "rhwmd.big\n",
      "   0.004936528881646662\n",
      "tfidf\n",
      "   0.0044924517603125705\n",
      "rhwmd.sum\n",
      "   0.006862707848698848\n",
      "wmd\n",
      "   0.0021401306893110237\n"
     ]
    }
   ],
   "source": [
    "print(results['rhwmd.small'].runs[250][0].mean_avg_precision)\n",
    "print(results['rhwmd.small'].mean_avg_prec(250))\n",
    "\n",
    "for key in results:\n",
    "    print(key)\n",
    "    stds = []\n",
    "    \n",
    "    for run in results[key].runs:\n",
    "        a = np.array([x.mean_avg_precision for x in results[key].runs[run]])\n",
    "        # print('  ', run, a.std())\n",
    "        stds.append(a.std())\n",
    "        \n",
    "    print('  ', np.array(stds).mean())"
   ]
  },
  {
   "cell_type": "code",
   "execution_count": 23,
   "metadata": {},
   "outputs": [
    {
     "name": "stdout",
     "output_type": "stream",
     "text": [
      "\n",
      "rows\n",
      "wmd                  & \n",
      "rhwmd.big            & \n",
      "rhwmd.min            & \n",
      "tfidf                & \n",
      "rhwmd.max            & \n",
      "rhwmd.small          & \n",
      "bm25                 & \n",
      "rhwmd.sum            & \n",
      "\n",
      "cols\n",
      "[250, 500, 750, 1000, 2000, 5000, 10000, 20000, 50000, 100000]\n",
      "\n",
      "data\n",
      "array([[69.62, 63.85, 59.98, 56.84, 50.01, 41.09, 35.05, 28.13, 20.94,\n",
      "        15.06],\n",
      "       [76.76, 67.8 , 62.9 , 59.46, 51.53, 40.47, 32.91, 25.3 , 18.  ,\n",
      "        12.45],\n",
      "       [77.75, 68.96, 64.1 , 60.44, 52.89, 42.17, 35.07, 26.98, 19.98,\n",
      "        13.91],\n",
      "       [84.12, 76.41, 73.59, 70.02, 60.95, 50.4 , 41.16, 32.88, 22.88,\n",
      "        16.33],\n",
      "       [94.1 , 90.54, 88.61, 86.45, 81.68, 73.22, 66.41, 59.74, 50.59,\n",
      "        42.87],\n",
      "       [94.1 , 90.54, 88.61, 86.45, 81.68, 73.22, 66.41, 59.73, 50.62,\n",
      "        42.9 ],\n",
      "       [93.07, 89.99, 88.38, 86.69, 82.84, 76.36, 70.64, 65.  , 56.94,\n",
      "        51.02],\n",
      "       [96.03, 93.44, 91.8 , 90.27, 85.82, 78.91, 72.8 , 66.62, 57.49,\n",
      "        49.82]])\n"
     ]
    }
   ],
   "source": [
    "# simplify data and re-build col-wise\n",
    "\n",
    "# mapping data\n",
    "cols = []\n",
    "rows = []\n",
    "\n",
    "# holding data\n",
    "data = defaultdict(dict)\n",
    "\n",
    "for kind in results:\n",
    "    if kind not in rows:\n",
    "        rows.append(kind)\n",
    "    \n",
    "    for run in results[kind].runs:\n",
    "        if run not in cols:\n",
    "            cols.append(run)\n",
    "            \n",
    "        data[kind][run] = results[kind].mean_avg_prec(run)\n",
    "\n",
    "# row major\n",
    "cols.sort()\n",
    "rows = np.array(rows)\n",
    "\n",
    "a_data = np.array([[data[row].get(col, 0) for col in cols] for row in rows])        \n",
    "np.set_printoptions(precision=2)\n",
    "\n",
    "# sort by row mean\n",
    "order = np.argsort(a_data.mean(axis=1))\n",
    "\n",
    "print('\\nrows')\n",
    "for row in rows[order]:\n",
    "    print(f'{row:20s} & ')\n",
    "\n",
    "print('\\ncols')\n",
    "print(repr(cols))\n",
    "\n",
    "print('\\ndata')\n",
    "\n",
    "print(repr(a_data[order] * 100))"
   ]
  },
  {
   "cell_type": "code",
   "execution_count": 24,
   "metadata": {},
   "outputs": [
    {
     "data": {
      "image/png": "[encoded data removed]",
      "text/plain": [
       "<Figure size 432x288 with 1 Axes>"
      ]
     },
     "metadata": {},
     "output_type": "display_data"
    },
    {
     "name": "stdout",
     "output_type": "stream",
     "text": [
      "saving to opt/rhwmd-exp-preselection-plot.png\n",
      "saving to opt/rhwmd-exp-preselection-plot.svg\n"
     ]
    }
   ],
   "source": [
    "plot_selection = ['wmd', 'tfidf', 'bm25', 'rhwmd.sum']\n",
    "colors = [CLR['gray'][2], CLR['red'][2], CLR['blue'][2], CLR['gray'][4]]\n",
    "\n",
    "a_data = np.array([[data[row].get(col, 0) for col in cols] for row in plot_selection])\n",
    "fig, ax = _fig_before('Retrieval Algorithm Quality', 'Data Set Size', 'Mean Average Precision')\n",
    "\n",
    "patches = []\n",
    "for i, row in enumerate(a_data):\n",
    "    patches.append(ppt.Patch(color=colors[i], label=plot_selection[i]))\n",
    "    ax.plot(cols, row, color=colors[i])\n",
    "\n",
    "_fig_after(fig, ax, patches=patches, fname='rhwmd-exp-preselection-plot')"
   ]
  },
  {
   "cell_type": "markdown",
   "metadata": {},
   "source": [
    "## Retrieval Time"
   ]
  },
  {
   "cell_type": "code",
   "execution_count": 45,
   "metadata": {
    "scrolled": false
   },
   "outputs": [
    {
     "data": {
      "image/png": "[encoded data removed]",
      "text/plain": [
       "<Figure size 432x288 with 1 Axes>"
      ]
     },
     "metadata": {},
     "output_type": "display_data"
    },
    {
     "name": "stdout",
     "output_type": "stream",
     "text": [
      "saving to opt/time-benchmark.png\n",
      "saving to opt/time-benchmark.svg\n"
     ]
    }
   ],
   "source": [
    "# Because of my Alzheimers, the timedelta attribute was not set for the experiments\n",
    "# Thus all this data was collected by hand :(\n",
    "# print(results['rhwmd.small'].runs[250][0].stats['141-AH'].timedelta) -> None\n",
    "\n",
    "data = [\n",
    "    # 5_000\n",
    "    1, 1.68, 2.76, 2.99, 2.72, 2.75, 2.77,\n",
    "    1, 1.62, 2.77, 2.75, 2.78, 2.75, 2.81,\n",
    "    1, 1.63, 2.76, 2.76, 2.74, 2.78, 2.83,\n",
    "    # 10_000\n",
    "    2, 3.31, 5.48, 5.54, 5.50, 5.54, 5.54,\n",
    "    2, 3.33, 5.53, 5.53, 5.49, 5.62, 5.64,\n",
    "    2, 3.37, 5.56, 5.58, 5.59, 5.55, 5.57,\n",
    "    # 20_000\n",
    "    4, 7.03, 11.20, 11.14, 10.92, 11.01, 11.06,\n",
    "    4, 6.60, 11.01, 11.82, 11.36, 11.03, 11.19,\n",
    "    4, 7.22, 11.15, 10.98, 11.89, 11.07, 10.98,\n",
    "    # 50_000\n",
    "    9, 16.80, 28.68, 27.76, 28.00, 29.57, 28.20,\n",
    "    9, 6.92, 28.48, 27.71, 28.53, 28.08, 28.87,\n",
    "    9, 17.00, 27.80, 28.62, 28.67, 30.42, 27.39,\n",
    "    # 100_000\n",
    "    19.3, 34.71, 59.84, 55.75, 55.02, 55.20, 55.00,\n",
    "    19.3, 38.11, 56.77, 54.72, 54.83, 54.98, 56.80,\n",
    "    19.3, 34.16, 59.65, 55.78, 55.43, 54.95, 56.23,\n",
    "]\n",
    "\n",
    "cols = []\n",
    "rows = []\n",
    "\n",
    "def transl(s: str):\n",
    "    conf, name = s.split('_')                  # 5000.2_rhwmd.max\n",
    "    k, it = (int(i) for i in conf.split('.'))  # 5000.2\n",
    "    \n",
    "    if name in translate:\n",
    "        name = translate[name]\n",
    "    \n",
    "    if name.startswith('rhwmd'):\n",
    "        name = 'rhwmd'\n",
    "    \n",
    "    if name not in rows:\n",
    "        rows.append(name)\n",
    "    \n",
    "    if k not in cols:\n",
    "        cols.append(k)\n",
    "    \n",
    "    return name, k\n",
    "\n",
    "runs = [transl(s) for s in (\n",
    "    \"5000.1_mp-rhwmd\", \"5000.1_bm25.max\", \"5000.1_rhwmd.min\",\n",
    "    \"5000.1_rhwmd.max\", \"5000.1_rhwmd.adaptive-small\",\n",
    "    \"5000.1_rhwmd.adaptive-big\", \"5000.1_rhwmd.sum\",\n",
    "    \"5000.2_mp-rhwmd\", \"5000.2_bm25.max\", \"5000.2_rhwmd.min\",\n",
    "    \"5000.2_rhwmd.max\", \"5000.2_rhwmd.adaptive-small\",\n",
    "    \"5000.2_rhwmd.adaptive-big\", \"5000.2_rhwmd.sum\",\n",
    "    \"5000.3_mp-rhwmd\", \"5000.3_bm25.max\", \"5000.3_rhwmd.min\",\n",
    "    \"5000.3_rhwmd.max\", \"5000.3_rhwmd.adaptive-small\",\n",
    "    \"5000.3_rhwmd.adaptive-big\", \"5000.3_rhwmd.sum\",\n",
    "    \"10000.1_mp-rhwmd\", \"10000.1_bm25.max\", \"10000.1_rhwmd.min\",\n",
    "    \"10000.1_rhwmd.max\", \"10000.1_rhwmd.adaptive-small\",\n",
    "    \"10000.1_rhwmd.adaptive-big\", \"10000.1_rhwmd.sum\",\n",
    "    \"10000.2_mp-rhwmd\", \"10000.2_bm25.max\", \"10000.2_rhwmd.min\",\n",
    "    \"10000.2_rhwmd.max\", \"10000.2_rhwmd.adaptive-small\",\n",
    "    \"10000.2_rhwmd.adaptive-big\", \"10000.2_rhwmd.sum\",\n",
    "    \"10000.3_mp-rhwmd\", \"10000.3_bm25.max\", \"10000.3_rhwmd.min\",\n",
    "    \"10000.3_rhwmd.max\", \"10000.3_rhwmd.adaptive-small\",\n",
    "    \"10000.3_rhwmd.adaptive-big\", \"10000.3_rhwmd.sum\",\n",
    "    \"20000.1_mp-rhwmd\", \"20000.1_bm25.max\", \"20000.1_rhwmd.min\",\n",
    "    \"20000.1_rhwmd.max\", \"20000.1_rhwmd.adaptive-small\",\n",
    "    \"20000.1_rhwmd.adaptive-big\", \"20000.1_rhwmd.sum\",\n",
    "    \"20000.2_mp-rhwmd\", \"20000.2_bm25.max\", \"20000.2_rhwmd.min\",\n",
    "    \"20000.2_rhwmd.max\", \"20000.2_rhwmd.adaptive-small\",\n",
    "    \"20000.2_rhwmd.adaptive-big\", \"20000.2_rhwmd.sum\",\n",
    "    \"20000.3_mp-rhwmd\", \"20000.3_bm25.max\", \"20000.3_rhwmd.min\",\n",
    "    \"20000.3_rhwmd.max\", \"20000.3_rhwmd.adaptive-small\",\n",
    "    \"20000.3_rhwmd.adaptive-big\", \"20000.3_rhwmd.sum\",\n",
    "    \"50000.1_mp-rhwmd\", \"50000.1_bm25.max\", \"50000.1_rhwmd.min\",\n",
    "    \"50000.1_rhwmd.max\", \"50000.1_rhwmd.adaptive-small\",\n",
    "    \"50000.1_rhwmd.adaptive-big\", \"50000.1_rhwmd.sum\",\n",
    "    \"50000.2_mp-rhwmd\", \"50000.2_bm25.max\", \"50000.2_rhwmd.min\",\n",
    "    \"50000.2_rhwmd.max\", \"50000.2_rhwmd.adaptive-small\",\n",
    "    \"50000.2_rhwmd.adaptive-big\", \"50000.2_rhwmd.sum\",\n",
    "    \"50000.3_mp-rhwmd\", \"50000.3_bm25.max\", \"50000.3_rhwmd.min\",\n",
    "    \"50000.3_rhwmd.max\", \"50000.3_rhwmd.adaptive-small\",\n",
    "    \"50000.3_rhwmd.adaptive-big\", \"50000.3_rhwmd.sum\",\n",
    "    \"100000.1_mp-rhwmd\", \"100000.1_bm25.max\", \"100000.1_rhwmd.min\",\n",
    "    \"100000.1_rhwmd.max\", \"100000.1_rhwmd.adaptive-small\",\n",
    "    \"100000.1_rhwmd.adaptive-big\", \"100000.1_rhwmd.sum\",\n",
    "    \"100000.2_mp-rhwmd\", \"100000.2_bm25.max\", \"100000.2_rhwmd.min\",\n",
    "    \"100000.2_rhwmd.max\", \"100000.2_rhwmd.adaptive-small\",\n",
    "    \"100000.2_rhwmd.adaptive-big\", \"100000.2_rhwmd.sum\",\n",
    "    \"100000.3_mp-rhwmd\", \"100000.3_bm25.max\", \"100000.3_rhwmd.min\",\n",
    "    \"100000.3_rhwmd.max\", \"100000.3_rhwmd.adaptive-small\",\n",
    "    \"100000.3_rhwmd.adaptive-big\", \"100000.3_rhwmd.sum\" )]\n",
    "\n",
    "assert len(data) == len(runs)\n",
    "\n",
    "\n",
    "times = defaultdict(dict)\n",
    "for (name, k), time in zip(runs, data):\n",
    "    lis = times[name].get(k, [])\n",
    "    lis.append(time)\n",
    "    times[name][k] = lis\n",
    "\n",
    "data = [(row, [(k, np.array(times[row][k]).mean()) for k in cols]) for row in rows]\n",
    "colors = CLR['red'][2], CLR['blue'][2], CLR['gray'][2], CLR['gray'][4]\n",
    "patches = []\n",
    "\n",
    "# additional manually inserted data :(\n",
    "\n",
    "data.append(['wmd', [(5000, 1.14), (10000, 42), (20000, 84,7), (50000, 212.2), (100000, 424.3)]])\n",
    "\n",
    "# ---\n",
    "\n",
    "fig, ax = _fig_before('Average Retrieval Time', 'Candidates', 'Seconds')\n",
    "# ax.set_yscale('log')\n",
    "for i, (kind, items) in enumerate(data):\n",
    "    patches.append(ppt.Patch(color=colors[i], label=kind))\n",
    "    x, y = zip(*items)\n",
    "    ax.plot(x, y, color=colors[i])\n",
    "    \n",
    "_fig_after(fig, ax, patches=patches, fname='time-benchmark')"
   ]
  }
 ],
 "metadata": {
  "kernelspec": {
   "display_name": "ungol-es",
   "language": "python",
   "name": "ungol-es"
  },
  "language_info": {
   "codemirror_mode": {
    "name": "ipython",
    "version": 3
   },
   "file_extension": ".py",
   "mimetype": "text/x-python",
   "name": "python",
   "nbconvert_exporter": "python",
   "pygments_lexer": "ipython3",
   "version": "3.6.4"
  }
 },
 "nbformat": 4,
 "nbformat_minor": 2
}
