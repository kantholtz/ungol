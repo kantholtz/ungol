{
 "cells": [
  {
   "cell_type": "code",
   "execution_count": 1,
   "metadata": {},
   "outputs": [],
   "source": [
    "f_task = '../opt/src/task.clef2003.txt'\n",
    "f_db = '../opt/databases/180921_ungol.db.pickle'"
   ]
  },
  {
   "cell_type": "code",
   "execution_count": 2,
   "metadata": {},
   "outputs": [
    {
     "name": "stdout",
     "output_type": "stream",
     "text": [
      "TODO: loading config from ...ca/ungol-models/conf/logging.conf\n"
     ]
    }
   ],
   "source": [
    "import random\n",
    "import pickle\n",
    "from ungol.retrieval import experiment"
   ]
  },
  {
   "cell_type": "code",
   "execution_count": 3,
   "metadata": {},
   "outputs": [
    {
     "name": "stdout",
     "output_type": "stream",
     "text": [
      "[experiment] read 21534 ground truth items\n",
      "[experiment] imported 56 ground truth topics\n",
      "recalculating avg doclen\n",
      "\n",
      "VNGOL database\n",
      "  containing: 294659 documents\n",
      "  vocabulary: 400000 words\n",
      "  filtering: 0 stopwords\n",
      "  code size: 256 bits\n",
      "  tokens: 258391\n",
      "  avg. doc length: 197.35699\n",
      "  skipped: 8\n",
      "\n"
     ]
    }
   ],
   "source": [
    "truth = experiment.Truth.from_file(f_task)\n",
    "with open(f_db, 'rb') as fd:\n",
    "    db = pickle.load(fd)\n",
    "    \n",
    "print(db)"
   ]
  },
  {
   "cell_type": "markdown",
   "metadata": {},
   "source": [
    "# Produce a Preselected-Dataset"
   ]
  },
  {
   "cell_type": "code",
   "execution_count": 8,
   "metadata": {},
   "outputs": [
    {
     "name": "stdout",
     "output_type": "stream",
     "text": [
      "1819\n"
     ]
    }
   ],
   "source": [
    "true_dat = set()\n",
    "\n",
    "# gather all correct items\n",
    "for top_id, docs in truth.items():\n",
    "    true_docs = [doc_id for doc_id, flag in docs.items() if flag]\n",
    "    true_dat |= set(true_docs)\n",
    "\n",
    "print(len(true_dat))"
   ]
  },
  {
   "cell_type": "code",
   "execution_count": 10,
   "metadata": {},
   "outputs": [],
   "source": [
    "def _produce(T, it):\n",
    "    print(f'\\nproducing {T} sized topic preselections')\n",
    "    \n",
    "    ds = {}\n",
    "    true_dat = set()\n",
    "\n",
    "    # gather all correct items\n",
    "    for top_id, docs in truth.items():\n",
    "        ds[top_id] = [doc_id for doc_id, flag in docs.items() if flag]\n",
    "        true_dat |= set(ds[top_id])\n",
    "    \n",
    "    print('true docs:', len(true_dat))\n",
    "    \n",
    "    samples = list(db.mapping.keys() - ds.keys() - true_dat)\n",
    "    random.shuffle(samples)\n",
    "    print('samples:', len(samples))\n",
    "    \n",
    "    for top_id, docs in ds.items():\n",
    "        diff = (T - len(docs))\n",
    "        assert diff > 0\n",
    "        \n",
    "        sip, samples = samples[:diff], samples[diff:] + samples[:diff]\n",
    "        docs += sip\n",
    "        random.shuffle(docs)\n",
    "        assert len(docs) == T, len(docs)\n",
    "    \n",
    "    print('samples:', len(samples))\n",
    "    \n",
    "#     with open(f'../opt/datasets/180921.{T}.{it}.pickle', 'wb') as fd:\n",
    "#         pickle.dump(ds, fd)\n",
    "\n",
    "def produce(T, times=3):\n",
    "    for i in range(times):\n",
    "        _produce(T, i + 1)"
   ]
  },
  {
   "cell_type": "code",
   "execution_count": 11,
   "metadata": {},
   "outputs": [
    {
     "name": "stdout",
     "output_type": "stream",
     "text": [
      "\n",
      "producing 250 sized topic preselections\n",
      "true docs: 1819\n",
      "samples: 292784\n",
      "samples: 292784\n",
      "\n",
      "producing 250 sized topic preselections\n",
      "true docs: 1819\n",
      "samples: 292784\n",
      "samples: 292784\n",
      "\n",
      "producing 250 sized topic preselections\n",
      "true docs: 1819\n",
      "samples: 292784\n"
     ]
    },
    {
     "ename": "KeyboardInterrupt",
     "evalue": "",
     "output_type": "error",
     "traceback": [
      "\u001b[0;31m---------------------------------------------------------------------------\u001b[0m",
      "\u001b[0;31mKeyboardInterrupt\u001b[0m                         Traceback (most recent call last)",
      "\u001b[0;32m<ipython-input-11-b359a67328e0>\u001b[0m in \u001b[0;36m<module>\u001b[0;34m()\u001b[0m\n\u001b[1;32m      1\u001b[0m \u001b[0;32mfor\u001b[0m \u001b[0mT\u001b[0m \u001b[0;32min\u001b[0m \u001b[0;36m250\u001b[0m\u001b[0;34m,\u001b[0m \u001b[0;36m500\u001b[0m\u001b[0;34m,\u001b[0m \u001b[0;36m750\u001b[0m\u001b[0;34m,\u001b[0m \u001b[0;36m1000\u001b[0m\u001b[0;34m,\u001b[0m \u001b[0;36m2000\u001b[0m\u001b[0;34m,\u001b[0m \u001b[0;36m5000\u001b[0m\u001b[0;34m,\u001b[0m \u001b[0;36m10000\u001b[0m\u001b[0;34m:\u001b[0m\u001b[0;34m\u001b[0m\u001b[0m\n\u001b[0;32m----> 2\u001b[0;31m     \u001b[0mproduce\u001b[0m\u001b[0;34m(\u001b[0m\u001b[0mT\u001b[0m\u001b[0;34m)\u001b[0m\u001b[0;34m\u001b[0m\u001b[0m\n\u001b[0m\u001b[1;32m      3\u001b[0m \u001b[0;34m\u001b[0m\u001b[0m\n\u001b[1;32m      4\u001b[0m \u001b[0;31m# for T in 20_000, 50_000, 100_000:\u001b[0m\u001b[0;34m\u001b[0m\u001b[0;34m\u001b[0m\u001b[0m\n\u001b[1;32m      5\u001b[0m \u001b[0;31m#     produce(T)\u001b[0m\u001b[0;34m\u001b[0m\u001b[0;34m\u001b[0m\u001b[0m\n",
      "\u001b[0;32m<ipython-input-10-241bb83eec87>\u001b[0m in \u001b[0;36mproduce\u001b[0;34m(T, times)\u001b[0m\n\u001b[1;32m     32\u001b[0m \u001b[0;32mdef\u001b[0m \u001b[0mproduce\u001b[0m\u001b[0;34m(\u001b[0m\u001b[0mT\u001b[0m\u001b[0;34m,\u001b[0m \u001b[0mtimes\u001b[0m\u001b[0;34m=\u001b[0m\u001b[0;36m3\u001b[0m\u001b[0;34m)\u001b[0m\u001b[0;34m:\u001b[0m\u001b[0;34m\u001b[0m\u001b[0m\n\u001b[1;32m     33\u001b[0m     \u001b[0;32mfor\u001b[0m \u001b[0mi\u001b[0m \u001b[0;32min\u001b[0m \u001b[0mrange\u001b[0m\u001b[0;34m(\u001b[0m\u001b[0mtimes\u001b[0m\u001b[0;34m)\u001b[0m\u001b[0;34m:\u001b[0m\u001b[0;34m\u001b[0m\u001b[0m\n\u001b[0;32m---> 34\u001b[0;31m         \u001b[0m_produce\u001b[0m\u001b[0;34m(\u001b[0m\u001b[0mT\u001b[0m\u001b[0;34m,\u001b[0m \u001b[0mi\u001b[0m \u001b[0;34m+\u001b[0m \u001b[0;36m1\u001b[0m\u001b[0;34m)\u001b[0m\u001b[0;34m\u001b[0m\u001b[0m\n\u001b[0m",
      "\u001b[0;32m<ipython-input-10-241bb83eec87>\u001b[0m in \u001b[0;36m_produce\u001b[0;34m(T, it)\u001b[0m\n\u001b[1;32m     20\u001b[0m         \u001b[0;32massert\u001b[0m \u001b[0mdiff\u001b[0m \u001b[0;34m>\u001b[0m \u001b[0;36m0\u001b[0m\u001b[0;34m\u001b[0m\u001b[0m\n\u001b[1;32m     21\u001b[0m \u001b[0;34m\u001b[0m\u001b[0m\n\u001b[0;32m---> 22\u001b[0;31m         \u001b[0msip\u001b[0m\u001b[0;34m,\u001b[0m \u001b[0msamples\u001b[0m \u001b[0;34m=\u001b[0m \u001b[0msamples\u001b[0m\u001b[0;34m[\u001b[0m\u001b[0;34m:\u001b[0m\u001b[0mdiff\u001b[0m\u001b[0;34m]\u001b[0m\u001b[0;34m,\u001b[0m \u001b[0msamples\u001b[0m\u001b[0;34m[\u001b[0m\u001b[0mdiff\u001b[0m\u001b[0;34m:\u001b[0m\u001b[0;34m]\u001b[0m \u001b[0;34m+\u001b[0m \u001b[0msamples\u001b[0m\u001b[0;34m[\u001b[0m\u001b[0;34m:\u001b[0m\u001b[0mdiff\u001b[0m\u001b[0;34m]\u001b[0m\u001b[0;34m\u001b[0m\u001b[0m\n\u001b[0m\u001b[1;32m     23\u001b[0m         \u001b[0mdocs\u001b[0m \u001b[0;34m+=\u001b[0m \u001b[0msip\u001b[0m\u001b[0;34m\u001b[0m\u001b[0m\n\u001b[1;32m     24\u001b[0m         \u001b[0mrandom\u001b[0m\u001b[0;34m.\u001b[0m\u001b[0mshuffle\u001b[0m\u001b[0;34m(\u001b[0m\u001b[0mdocs\u001b[0m\u001b[0;34m)\u001b[0m\u001b[0;34m\u001b[0m\u001b[0m\n",
      "\u001b[0;31mKeyboardInterrupt\u001b[0m: "
     ]
    }
   ],
   "source": [
    "for T in 250, 500, 750, 1000, 2000, 5000, 10000:\n",
    "    produce(T)\n",
    "\n",
    "# for T in 20_000, 50_000, 100_000:\n",
    "#     produce(T)"
   ]
  }
 ],
 "metadata": {
  "kernelspec": {
   "display_name": "ungol-es",
   "language": "python",
   "name": "ungol-es"
  },
  "language_info": {
   "codemirror_mode": {
    "name": "ipython",
    "version": 3
   },
   "file_extension": ".py",
   "mimetype": "text/x-python",
   "name": "python",
   "nbconvert_exporter": "python",
   "pygments_lexer": "ipython3",
   "version": "3.6.4"
  }
 },
 "nbformat": 4,
 "nbformat_minor": 2
}
