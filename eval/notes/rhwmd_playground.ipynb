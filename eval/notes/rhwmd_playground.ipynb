{
 "cells": [
  {
   "cell_type": "markdown",
   "metadata": {},
   "source": [
    "# Ad-Hoc RHWMD Fun"
   ]
  },
  {
   "cell_type": "code",
   "execution_count": 54,
   "metadata": {},
   "outputs": [],
   "source": [
    "import pickle\n",
    "\n",
    "from tabulate import tabulate\n",
    "\n",
    "from ungol.wmd import wmd\n",
    "from ungol.wmd import sim\n",
    "from ungol.wmd import rhwmd"
   ]
  },
  {
   "cell_type": "code",
   "execution_count": 2,
   "metadata": {},
   "outputs": [
    {
     "name": "stdout",
     "output_type": "stream",
     "text": [
      "TODO: loading config from ...ca/ungol-models/conf/logging.conf\n",
      "recalculating avg doclen\n",
      "\n",
      "VNGOL database\n",
      "  containing: 294659 documents\n",
      "  vocabulary: 400000 words\n",
      "  filtering: 0 stopwords\n",
      "  code size: 256 bits\n",
      "  tokens: 258391\n",
      "  avg. doc length: 197.35699\n",
      "  skipped: 8\n",
      "\n"
     ]
    }
   ],
   "source": [
    "with open('../opt/databases/180921_ungol.db.pickle', 'rb') as fd:\n",
    "    db = pickle.load(fd)\n",
    "\n",
    "print(str(db))"
   ]
  },
  {
   "cell_type": "code",
   "execution_count": 8,
   "metadata": {},
   "outputs": [],
   "source": [
    "tokens1 = 'auf der mauer auf der lauer sitzt ne kleine wanze'.split(' ')\n",
    "tokens2 = 'ein marienkäfer schläft auf dem zaun'.split(' ')\n",
    "tokens3 = 'ich möchte diesen teppich nicht kaufen'.split(' ')"
   ]
  },
  {
   "cell_type": "code",
   "execution_count": 10,
   "metadata": {},
   "outputs": [],
   "source": [
    "doc1 = wmd.Doc.from_tokens('wanze', tokens1, db.docref)\n",
    "doc2 = wmd.Doc.from_tokens('marienkäfer', tokens2, db.docref)\n",
    "doc3 = wmd.Doc.from_tokens('teppich', tokens3, db.docref)"
   ]
  },
  {
   "cell_type": "code",
   "execution_count": 41,
   "metadata": {},
   "outputs": [],
   "source": [
    "def docstr(doc):\n",
    "    str_buf = []\n",
    "    header_knn = tuple('{}-nn'.format(k) for k in doc.ref.meta['knn'])\n",
    "    header = ('word', 'tc', ) + header_knn\n",
    "\n",
    "    bits = doc.ref.codemap.shape[1] * 8\n",
    "    \n",
    "    tab_data = []\n",
    "    row_data = doc.tokens, doc.cnt, doc.codes, doc.dists\n",
    "    \n",
    "    for token, cnt, code, dist in zip(*row_data):\n",
    "        dist = tuple('{:.3f}'.format(dist / bits) for dist in dist)\n",
    "        tab_data.append((token, cnt, ) + dist)\n",
    "\n",
    "    str_buf += [tabulate(tab_data, headers=header)]\n",
    "\n",
    "    str_buf.append('')\n",
    "    return '\\n'.join(str_buf)"
   ]
  },
  {
   "cell_type": "code",
   "execution_count": 42,
   "metadata": {},
   "outputs": [
    {
     "name": "stdout",
     "output_type": "stream",
     "text": [
      "word      tc    1-nn    11-nn    101-nn    1001-nn    3999-nn\n",
      "------  ----  ------  -------  --------  ---------  ---------\n",
      "auf        2   0.219    0.23      0.262      0.289      0.309\n",
      "der        2   0.168    0.211     0.246      0.281      0.305\n",
      "mauer      1   0.18     0.223     0.262      0.316      0.336\n",
      "lauer      1   0.266    0.285     0.309      0.332      0.348\n",
      "sitzt      1   0.211    0.262     0.281      0.312      0.332\n",
      "ne         1   0.227    0.262     0.293      0.324      0.344\n",
      "kleine     1   0.137    0.246     0.277      0.305      0.32\n",
      "wanze      1   0.188    0.242     0.293      0.34       0.359\n",
      "\n"
     ]
    }
   ],
   "source": [
    "print(docstr(doc1))"
   ]
  },
  {
   "cell_type": "code",
   "execution_count": 43,
   "metadata": {},
   "outputs": [
    {
     "name": "stdout",
     "output_type": "stream",
     "text": [
      "word           tc    1-nn    11-nn    101-nn    1001-nn    3999-nn\n",
      "-----------  ----  ------  -------  --------  ---------  ---------\n",
      "ein             1   0.148    0.203     0.23       0.277      0.309\n",
      "marienkäfer     1   0.156    0.188     0.266      0.32       0.348\n",
      "schläft         1   0.188    0.23      0.266      0.309      0.336\n",
      "auf             1   0.219    0.23      0.262      0.289      0.309\n",
      "dem             1   0.176    0.219     0.25       0.285      0.309\n",
      "zaun            1   0.199    0.246     0.297      0.328      0.344\n",
      "\n"
     ]
    }
   ],
   "source": [
    "print(docstr(doc2))"
   ]
  },
  {
   "cell_type": "code",
   "execution_count": 44,
   "metadata": {},
   "outputs": [
    {
     "name": "stdout",
     "output_type": "stream",
     "text": [
      "word       tc    1-nn    11-nn    101-nn    1001-nn    3999-nn\n",
      "-------  ----  ------  -------  --------  ---------  ---------\n",
      "ich         1   0.141    0.184     0.223      0.27       0.301\n",
      "möchte      1   0.18     0.207     0.238      0.273      0.301\n",
      "diesen      1   0.145    0.207     0.242      0.273      0.297\n",
      "teppich     1   0.141    0.246     0.301      0.328      0.344\n",
      "nicht       1   0.137    0.18      0.215      0.262      0.293\n",
      "kaufen      1   0.133    0.188     0.258      0.305      0.332\n",
      "\n"
     ]
    }
   ],
   "source": [
    "print(docstr(doc3))"
   ]
  },
  {
   "cell_type": "code",
   "execution_count": 47,
   "metadata": {},
   "outputs": [
    {
     "ename": "AssertionError",
     "evalue": "\"wanze\" already indexed",
     "output_type": "error",
     "traceback": [
      "\u001b[0;31m---------------------------------------------------------------------------\u001b[0m",
      "\u001b[0;31mAssertionError\u001b[0m                            Traceback (most recent call last)",
      "\u001b[0;32m<ipython-input-47-a537b9419508>\u001b[0m in \u001b[0;36m<module>\u001b[0;34m()\u001b[0m\n\u001b[0;32m----> 1\u001b[0;31m \u001b[0mdb\u001b[0m \u001b[0;34m+=\u001b[0m \u001b[0mdoc1\u001b[0m\u001b[0;34m\u001b[0m\u001b[0m\n\u001b[0m\u001b[1;32m      2\u001b[0m \u001b[0mdb\u001b[0m \u001b[0;34m+=\u001b[0m \u001b[0mdoc2\u001b[0m\u001b[0;34m\u001b[0m\u001b[0m\n\u001b[1;32m      3\u001b[0m \u001b[0mdb\u001b[0m \u001b[0;34m+=\u001b[0m \u001b[0mdoc3\u001b[0m\u001b[0;34m\u001b[0m\u001b[0m\n",
      "\u001b[0;32m/mnt/maehre/felix_sein_zeug/Complex/deepca/ungol-wmd/ungol/wmd/wmd.py\u001b[0m in \u001b[0;36m__add__\u001b[0;34m(self, doc)\u001b[0m\n\u001b[1;32m    281\u001b[0m         \u001b[0;32massert\u001b[0m \u001b[0mlen\u001b[0m\u001b[0;34m(\u001b[0m\u001b[0mdoc\u001b[0m\u001b[0;34m.\u001b[0m\u001b[0midx\u001b[0m\u001b[0;34m)\u001b[0m\u001b[0;34m,\u001b[0m \u001b[0;34m'the document has no content'\u001b[0m\u001b[0;34m\u001b[0m\u001b[0m\n\u001b[1;32m    282\u001b[0m         \u001b[0;32massert\u001b[0m \u001b[0mdoc\u001b[0m\u001b[0;34m.\u001b[0m\u001b[0mname\u001b[0m\u001b[0;34m,\u001b[0m \u001b[0;34m'document needs the name attribute set'\u001b[0m\u001b[0;34m\u001b[0m\u001b[0m\n\u001b[0;32m--> 283\u001b[0;31m         \u001b[0;32massert\u001b[0m \u001b[0mdoc\u001b[0m\u001b[0;34m.\u001b[0m\u001b[0mname\u001b[0m \u001b[0;32mnot\u001b[0m \u001b[0;32min\u001b[0m \u001b[0mself\u001b[0m\u001b[0;34m.\u001b[0m\u001b[0mmapping\u001b[0m\u001b[0;34m,\u001b[0m \u001b[0;34mf'\"{doc.name}\" already indexed'\u001b[0m\u001b[0;34m\u001b[0m\u001b[0m\n\u001b[0m\u001b[1;32m    284\u001b[0m \u001b[0;34m\u001b[0m\u001b[0m\n\u001b[1;32m    285\u001b[0m         \u001b[0mself\u001b[0m\u001b[0;34m.\u001b[0m\u001b[0mvalid\u001b[0m \u001b[0;34m=\u001b[0m \u001b[0;32mFalse\u001b[0m\u001b[0;34m\u001b[0m\u001b[0m\n",
      "\u001b[0;31mAssertionError\u001b[0m: \"wanze\" already indexed"
     ]
    }
   ],
   "source": [
    "db += doc1\n",
    "db += doc2\n",
    "db += doc3"
   ]
  },
  {
   "cell_type": "code",
   "execution_count": 65,
   "metadata": {},
   "outputs": [],
   "source": [
    "def statprint(stats):\n",
    "    for name, cols in stats.local_columns:\n",
    "        print('\\n', f\"'{name}': (\")\n",
    "        col1, col2 = (repr(list(col)) for col in cols)\n",
    "        print('  ', col1, ',')\n",
    "        print('  ', col2, '),')"
   ]
  },
  {
   "cell_type": "code",
   "execution_count": 66,
   "metadata": {},
   "outputs": [
    {
     "name": "stdout",
     "output_type": "stream",
     "text": [
      "\n",
      "rhwmd score : 1.4572827183329489\n",
      "\n",
      "--------  ---\n",
      "strategy  SUM\n",
      "--------  ---\n",
      "\n",
      "\n",
      "\n",
      "+----------------------------------------------------------------------------------------------+\n",
      "|                                                                                              |\n",
      "|  comparing: \"wanze\" to \"marienkäfer\"                                                         |\n",
      "|                                                                                              |\n",
      "|  -----  --------                                                                             |\n",
      "|  score  0.711667                                                                             |\n",
      "|  -----  --------                                                                             |\n",
      "|                                                                                              |\n",
      "|                                                                                              |\n",
      "|    no  token    nn              sim    tf(token)    idf(token)    idf(nn)     idf    weight  |\n",
      "|  ----  -------  -----------  ------  -----------  ------------  ---------  ------  --------  |\n",
      "|     0  wanze    marienkäfer  0.7422       0.1000        9.3355     9.6491  9.3355    0.1997  |\n",
      "|     1  lauer    schläft      0.6680       0.1000        7.1340     7.1383  7.1340    0.1374  |\n",
      "|     2  ne       auf          0.6641       0.1000        5.5610     0.3052  5.5610    0.1064  |\n",
      "|     3  mauer    zaun         0.7578       0.1000        4.6739     5.9735  4.6739    0.1021  |\n",
      "|     4  sitzt    schläft      0.7266       0.1000        4.3609     7.1383  4.3609    0.0913  |\n",
      "|     5  kleine   auf          0.6875       0.1000        3.2902     0.3052  3.2902    0.0652  |\n",
      "|     6  auf      auf          1.0000       0.2000        0.3052     0.3052  0.3052    0.0088  |\n",
      "|     7  der      dem          0.7852       0.2000        0.0328     0.3696  0.0328    0.0007  |\n",
      "|                                                                                              |\n",
      "+----------------------------------------------------------------------------------------------+\n",
      "\n",
      "+--------------------------------------------------------------------------------------------+\n",
      "|                                                                                            |\n",
      "|  comparing: \"marienkäfer\" to \"wanze\"                                                       |\n",
      "|                                                                                            |\n",
      "|  -----  --------                                                                           |\n",
      "|  score  0.745616                                                                           |\n",
      "|  -----  --------                                                                           |\n",
      "|                                                                                            |\n",
      "|                                                                                            |\n",
      "|    no  token        nn        sim    tf(token)    idf(token)    idf(nn)     idf    weight  |\n",
      "|  ----  -----------  -----  ------  -----------  ------------  ---------  ------  --------  |\n",
      "|     0  marienkäfer  wanze  0.7422       0.1667        9.6491     9.3355  9.6491    0.3014  |\n",
      "|     1  schläft      sitzt  0.7266       0.1667        7.1383     4.3609  7.1383    0.2183  |\n",
      "|     2  zaun         mauer  0.7578       0.1667        5.9735     4.6739  5.9735    0.1905  |\n",
      "|     3  auf          auf    1.0000       0.1667        0.3052     0.3052  0.3052    0.0128  |\n",
      "|     4  dem          der    0.7852       0.1667        0.3696     0.0328  0.3696    0.0122  |\n",
      "|     5  ein          der    0.7578       0.1667        0.3253     0.0328  0.3253    0.0104  |\n",
      "|                                                                                            |\n",
      "+--------------------------------------------------------------------------------------------+\n",
      "\n",
      "\n",
      " 'token': (\n",
      "   ['auf', 'der', 'mauer', 'lauer', 'sitzt', 'ne', 'kleine', 'wanze'] ,\n",
      "   ['ein', 'marienkäfer', 'schläft', 'auf', 'dem', 'zaun'] ),\n",
      "\n",
      " 'nn': (\n",
      "   ['auf', 'dem', 'zaun', 'schläft', 'schläft', 'auf', 'auf', 'marienkäfer'] ,\n",
      "   ['der', 'wanze', 'sitzt', 'auf', 'der', 'mauer'] ),\n",
      "\n",
      " 'sim': (\n",
      "   [1.0, 0.78515625, 0.7578125, 0.66796875, 0.7265625, 0.6640625, 0.6875, 0.7421875] ,\n",
      "   [0.7578125, 0.7421875, 0.7265625, 1.0, 0.78515625, 0.7578125] ),\n",
      "\n",
      " 'tf(token)': (\n",
      "   [0.2, 0.2, 0.1, 0.1, 0.1, 0.1, 0.1, 0.1] ,\n",
      "   [0.16666666666666666, 0.16666666666666666, 0.16666666666666666, 0.16666666666666666, 0.16666666666666666, 0.16666666666666666] ),\n",
      "\n",
      " 'idf(token)': (\n",
      "   [0.30524518288149965, 0.03277500369357593, 4.673864454797616, 7.133998701578031, 4.360878205861215, 5.560959954694184, 3.290208977778818, 9.335487677700709] ,\n",
      "   [0.32533991036210486, 9.64914523655575, 7.1382631003644885, 0.30524518288149965, 0.3695979809071377, 5.973511009191834] ),\n",
      "\n",
      " 'idf(nn)': (\n",
      "   [0.30524518288149965, 0.3695979809071377, 5.973511009191834, 7.1382631003644885, 7.1382631003644885, 0.30524518288149965, 0.30524518288149965, 9.64914523655575] ,\n",
      "   [0.03277500369357593, 9.335487677700709, 4.360878205861215, 0.30524518288149965, 0.03277500369357593, 4.673864454797616] ),\n",
      "\n",
      " 'idf': (\n",
      "   [0.30524518288149965, 0.03277500369357593, 4.673864454797616, 7.133998701578031, 4.360878205861215, 5.560959954694184, 3.290208977778818, 9.335487677700709] ,\n",
      "   [0.32533991036210486, 9.64914523655575, 7.1382631003644885, 0.30524518288149965, 0.3695979809071377, 5.973511009191834] ),\n",
      "\n",
      " 'weight': (\n",
      "   [0.008798360008307244, 0.0007417400867178378, 0.10209178268108923, 0.13735424319844608, 0.09132713752580777, 0.10644165855873325, 0.06520022506450755, 0.199711721371535] ,\n",
      "   [0.010376061112847793, 0.3013948954720683, 0.21827246026412306, 0.012846423431144968, 0.012212908288680744, 0.19051310126894005] ),\n"
     ]
    }
   ],
   "source": [
    "stats = sim.rhwmd(db, 'wanze', 'marienkäfer', verbose=True, strategy=rhwmd.Strategy.SUM)\n",
    "print(str(stats))\n",
    "statprint(stats)"
   ]
  },
  {
   "cell_type": "code",
   "execution_count": 67,
   "metadata": {},
   "outputs": [
    {
     "name": "stdout",
     "output_type": "stream",
     "text": [
      "\n",
      "rhwmd score : 1.317160596374639\n",
      "\n",
      "--------  ---\n",
      "strategy  SUM\n",
      "--------  ---\n",
      "\n",
      "\n",
      "\n",
      "+-----------------------------------------------------------------------------------------+\n",
      "|                                                                                         |\n",
      "|  comparing: \"wanze\" to \"teppich\"                                                        |\n",
      "|                                                                                         |\n",
      "|  -----  --------                                                                        |\n",
      "|  score  0.642874                                                                        |\n",
      "|  -----  --------                                                                        |\n",
      "|                                                                                         |\n",
      "|                                                                                         |\n",
      "|    no  token    nn         sim    tf(token)    idf(token)    idf(nn)     idf    weight  |\n",
      "|  ----  -------  ------  ------  -----------  ------------  ---------  ------  --------  |\n",
      "|     0  wanze    möchte  0.6016       0.1000        9.3355     3.4609  9.3355    0.1619  |\n",
      "|     1  lauer    diesen  0.6016       0.1000        7.1340     2.5660  7.1340    0.1237  |\n",
      "|     2  ne       ich     0.6797       0.1000        5.5610     2.3952  5.5610    0.1089  |\n",
      "|     3  mauer    nicht   0.6680       0.1000        4.6739     0.6342  4.6739    0.0900  |\n",
      "|     4  sitzt    möchte  0.6836       0.1000        4.3609     3.4609  4.3609    0.0859  |\n",
      "|     5  kleine   ich     0.6875       0.1000        3.2902     2.3952  3.2902    0.0652  |\n",
      "|     6  auf      diesen  0.7422       0.2000        0.3052     2.5660  0.3052    0.0065  |\n",
      "|     7  der      nicht   0.7539       0.2000        0.0328     0.6342  0.0328    0.0007  |\n",
      "|                                                                                         |\n",
      "+-----------------------------------------------------------------------------------------+\n",
      "\n",
      "+----------------------------------------------------------------------------------------+\n",
      "|                                                                                        |\n",
      "|  comparing: \"teppich\" to \"wanze\"                                                       |\n",
      "|                                                                                        |\n",
      "|  -----  --------                                                                       |\n",
      "|  score  0.674287                                                                       |\n",
      "|  -----  --------                                                                       |\n",
      "|                                                                                        |\n",
      "|                                                                                        |\n",
      "|    no  token    nn        sim    tf(token)    idf(token)    idf(nn)     idf    weight  |\n",
      "|  ----  -------  -----  ------  -----------  ------------  ---------  ------  --------  |\n",
      "|     0  teppich  auf    0.6484       0.1667        5.8495     0.3052  5.8495    0.1979  |\n",
      "|     1  kaufen   sitzt  0.6289       0.1667        4.2642     4.3609  4.2642    0.1399  |\n",
      "|     2  möchte   sitzt  0.6836       0.1667        3.4609     4.3609  3.4609    0.1234  |\n",
      "|     3  diesen   auf    0.7422       0.1667        2.5660     0.3052  2.5660    0.0993  |\n",
      "|     4  ich      auf    0.7109       0.1667        2.3952     0.3052  2.3952    0.0888  |\n",
      "|     5  nicht    der    0.7539       0.1667        0.6342     0.0328  0.6342    0.0249  |\n",
      "|                                                                                        |\n",
      "+----------------------------------------------------------------------------------------+\n",
      "\n",
      "\n",
      " 'token': (\n",
      "   ['auf', 'der', 'mauer', 'lauer', 'sitzt', 'ne', 'kleine', 'wanze'] ,\n",
      "   ['ich', 'möchte', 'diesen', 'teppich', 'nicht', 'kaufen'] ),\n",
      "\n",
      " 'nn': (\n",
      "   ['diesen', 'nicht', 'nicht', 'diesen', 'möchte', 'ich', 'ich', 'möchte'] ,\n",
      "   ['auf', 'sitzt', 'auf', 'auf', 'der', 'sitzt'] ),\n",
      "\n",
      " 'sim': (\n",
      "   [0.7421875, 0.75390625, 0.66796875, 0.6015625, 0.68359375, 0.6796875, 0.6875, 0.6015625] ,\n",
      "   [0.7109375, 0.68359375, 0.7421875, 0.6484375, 0.75390625, 0.62890625] ),\n",
      "\n",
      " 'tf(token)': (\n",
      "   [0.2, 0.2, 0.1, 0.1, 0.1, 0.1, 0.1, 0.1] ,\n",
      "   [0.16666666666666666, 0.16666666666666666, 0.16666666666666666, 0.16666666666666666, 0.16666666666666666, 0.16666666666666666] ),\n",
      "\n",
      " 'idf(token)': (\n",
      "   [0.30524518288149965, 0.03277500369357593, 4.673864454797616, 7.133998701578031, 4.360878205861215, 5.560959954694184, 3.290208977778818, 9.335487677700709] ,\n",
      "   [2.3951535162560775, 3.46088111347316, 2.5660223480841355, 5.8495250294108425, 0.6341604704231225, 4.264167431782871] ),\n",
      "\n",
      " 'idf(nn)': (\n",
      "   [2.5660223480841355, 0.6341604704231225, 0.6341604704231225, 2.5660223480841355, 3.46088111347316, 2.3951535162560775, 2.3951535162560775, 3.46088111347316] ,\n",
      "   [0.30524518288149965, 4.360878205861215, 0.30524518288149965, 0.30524518288149965, 0.03277500369357593, 4.360878205861215] ),\n",
      "\n",
      " 'idf': (\n",
      "   [0.30524518288149965, 0.03277500369357593, 4.673864454797616, 7.133998701578031, 4.360878205861215, 5.560959954694184, 3.290208977778818, 9.335487677700709] ,\n",
      "   [2.3951535162560775, 3.46088111347316, 2.5660223480841355, 5.8495250294108425, 0.6341604704231225, 4.264167431782871] ),\n",
      "\n",
      " 'weight': (\n",
      "   [0.006530032818665533, 0.0007122180932166303, 0.08998811772405288, 0.12369914299743097, 0.08592607025277613, 0.10894616817187992, 0.06520022506450755, 0.16187160574324416] ,\n",
      "   [0.08882694081549379, 0.1234140749664907, 0.09934682637876315, 0.1978648519570082, 0.024939999426900946, 0.13989432196420828] ),\n"
     ]
    }
   ],
   "source": [
    "stats = sim.rhwmd(db, 'wanze', 'teppich', verbose=True, strategy=rhwmd.Strategy.SUM)\n",
    "print(str(stats))\n",
    "statprint(stats)"
   ]
  }
 ],
 "metadata": {
  "kernelspec": {
   "display_name": "ungol-es",
   "language": "python",
   "name": "ungol-es"
  },
  "language_info": {
   "codemirror_mode": {
    "name": "ipython",
    "version": 3
   },
   "file_extension": ".py",
   "mimetype": "text/x-python",
   "name": "python",
   "nbconvert_exporter": "python",
   "pygments_lexer": "ipython3",
   "version": "3.6.4"
  }
 },
 "nbformat": 4,
 "nbformat_minor": 2
}
