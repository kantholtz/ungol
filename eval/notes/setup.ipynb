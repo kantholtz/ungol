{
 "cells": [
  {
   "cell_type": "code",
   "execution_count": 1,
   "metadata": {},
   "outputs": [],
   "source": [
    "from dumpr.common import BatchReader\n",
    "\n",
    "import attr\n",
    "import elasticsearch as es\n",
    "from tqdm import tqdm"
   ]
  },
  {
   "cell_type": "code",
   "execution_count": 2,
   "metadata": {},
   "outputs": [],
   "source": [
    "XML_SPIEGEL = '/mnt/maehre/dump/text/de/spiegel-9495/spiegel-9495.full.xml'\n",
    "XML_FRA = '/mnt/maehre/dump/text/de/frankfurter-rundschau-9495/frankfurter-rundschau-9495.full.xml'\n",
    "\n",
    "CTX = {'index': 'articles', 'doc_type': 'doc'}"
   ]
  },
  {
   "cell_type": "code",
   "execution_count": 9,
   "metadata": {},
   "outputs": [
    {
     "name": "stdout",
     "output_type": "stream",
     "text": [
      "ping True\n",
      "delete index: {'acknowledged': True}\n",
      "re-create index: {'acknowledged': True, 'shards_acknowledged': True, 'index': 'articles'}\n"
     ]
    }
   ],
   "source": [
    "e = es.Elasticsearch([{ 'host': 'localhost', 'port': 9200 }])\n",
    "print('ping', e.ping())\n",
    "    \n",
    "if e.indices.exists(index=CTX['index']):\n",
    "    res = e.indices.delete(index=CTX['index'])\n",
    "    print('delete index:', res)\n",
    "\n",
    "article_mapping = {\n",
    "    'mappings': {\n",
    "        'doc': {\n",
    "            'properties': {\n",
    "                'content': {'type': 'text', 'analyzer': 'german'},\n",
    "                'title': {'type': 'text'},\n",
    "            }\n",
    "        }\n",
    "    }\n",
    "}\n",
    "\n",
    "res = e.indices.create(index=CTX['index'], body=article_mapping)\n",
    "print('re-create index:', res)"
   ]
  },
  {
   "cell_type": "code",
   "execution_count": 10,
   "metadata": {},
   "outputs": [
    {
     "name": "stderr",
     "output_type": "stream",
     "text": [
      "  0%|          | 1/13781 [00:00<24:08,  9.51it/s]"
     ]
    },
    {
     "name": "stdout",
     "output_type": "stream",
     "text": [
      "indexing spiegel-9495\n"
     ]
    },
    {
     "name": "stderr",
     "output_type": "stream",
     "text": [
      "100%|██████████| 13781/13781 [01:26<00:00, 158.90it/s]\n",
      "  0%|          | 12/139715 [00:00<20:16, 114.85it/s]"
     ]
    },
    {
     "name": "stdout",
     "output_type": "stream",
     "text": [
      "indexed 13781 documents\n",
      "indexing frankfurter-rundschau-9495\n"
     ]
    },
    {
     "name": "stderr",
     "output_type": "stream",
     "text": [
      "100%|██████████| 139715/139715 [14:14<00:00, 163.55it/s]"
     ]
    },
    {
     "name": "stdout",
     "output_type": "stream",
     "text": [
      "indexed 139715 documents\n"
     ]
    },
    {
     "name": "stderr",
     "output_type": "stream",
     "text": [
      "\n"
     ]
    }
   ],
   "source": [
    "def index(xml: str, total: int):\n",
    "    with BatchReader(xml) as reader:\n",
    "        for count, doc in tqdm(enumerate(reader), total=total):\n",
    "            doc_id = doc.meta['id']\n",
    "            rep = {'content': doc.content}\n",
    "            \n",
    "            if 'title-0' in doc.meta:\n",
    "                rep['title'] = doc.meta['title-0']\n",
    "            \n",
    "            e.index(id=doc_id, body=rep, **CTX)\n",
    "        \n",
    "        print('indexed', count + 1, 'documents')\n",
    "\n",
    "print('indexing spiegel-9495')\n",
    "index(XML_SPIEGEL, 13781)\n",
    "\n",
    "print('indexing frankfurter-rundschau-9495')\n",
    "index(XML_FRA, 139715)"
   ]
  },
  {
   "cell_type": "code",
   "execution_count": 7,
   "metadata": {},
   "outputs": [
    {
     "data": {
      "text/plain": [
       "{'_index': 'articles',\n",
       " '_type': 'doc',\n",
       " '_id': 'SPIEGEL9495-007071',\n",
       " '_version': 1,\n",
       " 'found': True,\n",
       " '_source': {'content': '28, amerikanische Bürgerin, die gegen US-Präsident Bill Clinton wegen sexueller Belästigung klagt, mußte jetzt zwei juristische Niederlagen hinnehmen. Ein New Yorker Richter gestattete einem Herrenmagazin, ein Foto der entblößten Paula Jones, das sie in Umarmung mit einem Nackten zeigt, auf dem Titelblatt abzubilden. Eine Bundesrichterin in Clintons Heimatstaat Arkansas entschied, ein Prozeß gegen den Regierungschef käme frühestens nach dem Ende seiner Amtszeit in Frage. Die Klage sei offenbar nicht so dringlich: Paula Jones habe sie erst zwei Tage vor der Verjährung eingereicht.',\n",
       "  'title': 'Paula Jones,'}}"
      ]
     },
     "execution_count": 7,
     "metadata": {},
     "output_type": "execute_result"
    }
   ],
   "source": [
    "e.get(id='SPIEGEL9495-007071', **CTX)"
   ]
  },
  {
   "cell_type": "code",
   "execution_count": 8,
   "metadata": {},
   "outputs": [
    {
     "data": {
      "text/plain": [
       "{'_index': 'articles',\n",
       " '_type': 'doc',\n",
       " '_id': 'FR941030-003053',\n",
       " '_version': 1,\n",
       " 'found': True,\n",
       " '_source': {'content': 'SSV ratiopharm Ulm SV Tally Oberelchingen 103:57 (53:25). - Beste Werfer: Knoerr Krefelder EV Düsseldorfer EG 2:4 (0:1, 1:1, 1:2) Tore: 0:1 Kummer (16:19), 0:2 Hiemer'}}"
      ]
     },
     "execution_count": 8,
     "metadata": {},
     "output_type": "execute_result"
    }
   ],
   "source": [
    "e.get(id='FR941030-003053', **CTX)"
   ]
  }
 ],
 "metadata": {
  "kernelspec": {
   "display_name": "ungol-es",
   "language": "python",
   "name": "ungol-es"
  },
  "language_info": {
   "codemirror_mode": {
    "name": "ipython",
    "version": 3
   },
   "file_extension": ".py",
   "mimetype": "text/x-python",
   "name": "python",
   "nbconvert_exporter": "python",
   "pygments_lexer": "ipython3",
   "version": "3.6.4"
  }
 },
 "nbformat": 4,
 "nbformat_minor": 2
}
