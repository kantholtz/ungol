{
 "cells": [
  {
   "cell_type": "code",
   "execution_count": 1,
   "metadata": {},
   "outputs": [],
   "source": [
    "CLR = {\n",
    "    'blue': ['#e0f3ff', '#aadeff', '#2bb1ff', '#15587f', '#0b2c40'],\n",
    "    'gold': ['#fff3dc', '#ffebc7', '#ffddab', '#b59d79', '#5C4938'],\n",
    "    'red':  ['#ffd8e8', '#ff9db6', '#ff3e72', '#6B404C', '#521424'],\n",
    "    'gray': ['#eeeeee', '#bbbbbb', '#999999', '#666666', '#333333'],\n",
    "}"
   ]
  },
  {
   "cell_type": "code",
   "execution_count": 2,
   "metadata": {},
   "outputs": [],
   "source": [
    "import pickle\n",
    "import pathlib\n",
    "\n",
    "from matplotlib import pyplot as plt"
   ]
  },
  {
   "cell_type": "code",
   "execution_count": 5,
   "metadata": {},
   "outputs": [
    {
     "data": {
      "image/png": "[encoded data removed]",
      "text/plain": [
       "<Figure size 432x288 with 1 Axes>"
      ]
     },
     "metadata": {},
     "output_type": "display_data"
    },
    {
     "name": "stdout",
     "output_type": "stream",
     "text": [
      "saving to opt/elastic-find-k-global.png\n",
      "saving to opt/elastic-find-k-global.svg\n",
      "\n",
      "VNGOL EXPERIMENT\n",
      "\n",
      "----------------------  -----\n",
      "mean precision           1.35\n",
      "mean recall             83.59\n",
      "mean average precision  39.25\n",
      "----------------------  -----\n",
      "\n",
      "------------------------------------------------------------\n",
      "\n",
      "topic       k    POS    TP    FP    FN    P    R    AP\n",
      "-------  ----  -----  ----  ----  ----  ---  ---  ----\n",
      "161-AH   2000      1     1  1999     0    0  100   100\n",
      "172-AH   2000      1     1  1999     0    0  100   100\n",
      "194-AH   2000      2     2  1998     0    0  100   100\n",
      "176-AH   2000     74    74  1926     0    3  100    98\n",
      "173-AH   2000     10    10  1990     0    0  100    96\n",
      "141-AH   2000      8     8  1992     0    0  100    94\n",
      "196-AH   2000      6     6  1994     0    0  100    94\n",
      "142-AH   2000     65    65  1935     0    3  100    91\n",
      "189-AH   2000      6     6  1994     0    0  100    85\n",
      "199-AH   2000     48    48  1952     0    2  100    78\n",
      "185-AH   2000      7     7  1993     0    0  100    67\n",
      "181-AH   2000    226   215  1785    11   10   95    64\n",
      "187-AH   2000     87    86  1914     1    4   98    64\n",
      "180-AH   2000     65    65  1935     0    3  100    63\n",
      "149-AH   2000     12    12  1988     0    0  100    62\n",
      "197-AH   2000    122   119  1881     3    5   97    60\n",
      "158-AH   2000      3     3  1997     0    0  100    59\n",
      "175-AH   2000     11    10  1990     1    0   90    59\n",
      "182-AH   2000     17    17  1983     0    0  100    58\n",
      "193-AH   2000     34    34  1966     0    1  100    53\n",
      "165-AH   2000      4     4  1996     0    0  100    51\n",
      "183-AH   2000      8     8  1992     0    0  100    47\n",
      "150-AH   2000     45    45  1955     0    2  100    46\n",
      "163-AH   2000     47    45  1955     2    2   95    44\n",
      "143-AH   2000     63    58  1942     5    2   92    42\n",
      "167-AH   2000      4     4  1996     0    0  100    37\n",
      "154-AH   2000     19    18  1982     1    0   94    32\n",
      "190-AH   2000     57    49  1951     8    2   85    29\n",
      "162-AH   2000     24    24  1976     0    1  100    27\n",
      "186-AH   2000     27    17  1983    10    0   62    27\n",
      "188-AH   2000     45    31  1969    14    1   68    25\n",
      "155-AH   2000     24    17  1983     7    0   70    24\n",
      "184-AH   2000     40    32  1968     8    1   80    23\n",
      "179-AH   2000     49    47  1953     2    2   95    18\n",
      "192-AH   2000     26    22  1978     4    1   84    15\n",
      "148-AH   2000     12    12  1988     0    0  100    14\n",
      "160-AH   2000      1     1  1999     0    0  100    14\n",
      "169-AH   2000     10     7  1993     3    0   70    12\n",
      "195-AH   2000     29    25  1975     4    1   86    12\n",
      "159-AH   2000     36    20  1980    16    1   55    11\n",
      "164-AH   2000     72    47  1953    25    2   65    11\n",
      "145-AH   2000     10     5  1995     5    0   50    10\n",
      "174-AH   2000     36    17  1983    19    0   47    10\n",
      "157-AH   2000     49    35  1965    14    1   71     8\n",
      "151-AH   2000     10     6  1994     4    0   60     7\n",
      "198-AH   2000     12     8  1992     4    0   66     6\n",
      "168-AH   2000     17    17  1983     0    0  100     5\n",
      "178-AH   2000     21     8  1992    13    0   38     5\n",
      "153-AH   2000     26    25  1975     1    1   96     4\n",
      "152-AH   2000     56    20  1980    36    1   35     3\n",
      "156-AH   2000     29    25  1975     4    1   86     3\n",
      "171-AH   2000      8     8  1992     0    0  100     3\n",
      "147-AH   2000     29     9  1991    20    0   31     0\n",
      "166-AH   2000      2     2  1998     0    0  100     0\n",
      "177-AH   2000      7     0  2000     7    0    0     0\n",
      "200-AH   2000     66     5  1995    61    0    7     0\n",
      "0.38409777615152896\n"
     ]
    }
   ],
   "source": [
    "base_dir = pathlib.Path('../opt/bak')\n",
    "out_dir = pathlib.Path('opt/')\n",
    "\n",
    "def plot_global_k(fname: str, save: bool = False):\n",
    "    with open(fname, 'rb') as fd:\n",
    "        exp = pickle.load(fd)\n",
    "    \n",
    "    def fig_before(title: str, xlabel, ylabel):\n",
    "        fig = plt.figure()\n",
    "        ax = fig.add_subplot(111)\n",
    "        ax.set_title(title)\n",
    "        ax.set_xlabel(xlabel)\n",
    "        ax.set_ylabel(ylabel)\n",
    "        return fig, ax\n",
    "    \n",
    "    def fig_after(fig, ax, fname=None):\n",
    "        if display:\n",
    "            plt.show(fig)\n",
    "        if fname:\n",
    "            for out_file in [str(out_dir/fname) + s for s in ('.png', '.svg')]:\n",
    "                print('saving to', out_file)\n",
    "                fig.savefig(out_file)\n",
    "\n",
    "        fig.clear()\n",
    "        plt.close(fig)\n",
    "    \n",
    "    fig, ax = fig_before('BM25 Search Quality', 'k', 'Quality')\n",
    "    \n",
    "    def plot(arr, color, label):\n",
    "        ax.plot(range(1, len(arr)), arr[1:], lw=1, color=color, label=label)\n",
    "    \n",
    "    end = 1200\n",
    "    plot(exp.arr_mean_recall[:end] * 100, CLR['blue'][2], 'Mean Recall')\n",
    "    plot(exp.arr_mean_precision[:end] * 100, CLR['gray'][4], 'Mean Precision')\n",
    "    plot(exp.arr_mean_avg_precision[:end] * 100, CLR['red'][2], 'Mean Average Precision')\n",
    "    \n",
    "    ax.axvline(x=250, color='black', ls='dashed', lw=1)\n",
    "    ax.legend(loc='upper right')\n",
    "    \n",
    "    fig_after(fig, ax, 'elastic-find-k-global')\n",
    "    print(str(exp))\n",
    "    print(exp.arr_mean_avg_precision[250])\n",
    "\n",
    "plot_global_k(str(base_dir / 'elastic_find_k-global.pickle'))"
   ]
  },
  {
   "cell_type": "code",
   "execution_count": 10,
   "metadata": {},
   "outputs": [
    {
     "name": "stdout",
     "output_type": "stream",
     "text": [
      "34.693\n",
      "[0.26907445 0.20563226 0.1602917  0.13472458 0.12570259 0.09483181\n",
      " 0.0087914  0.0009512 ]\n"
     ]
    }
   ],
   "source": [
    "import numpy as np\n",
    "a = np.array([9.335, 7.134, 5.561, 4.674, 4.361, 3.290, 0.305, 0.033])\n",
    "print(a.sum())\n",
    "print(a / a.sum())"
   ]
  }
 ],
 "metadata": {
  "kernelspec": {
   "display_name": "ungol-es",
   "language": "python",
   "name": "ungol-es"
  },
  "language_info": {
   "codemirror_mode": {
    "name": "ipython",
    "version": 3
   },
   "file_extension": ".py",
   "mimetype": "text/x-python",
   "name": "python",
   "nbconvert_exporter": "python",
   "pygments_lexer": "ipython3",
   "version": "3.6.4"
  }
 },
 "nbformat": 4,
 "nbformat_minor": 2
}
