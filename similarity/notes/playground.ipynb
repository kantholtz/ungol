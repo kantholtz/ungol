{
 "cells": [
  {
   "cell_type": "markdown",
   "metadata": {},
   "source": [
    "# VNGOL WMD (hrwmd)"
   ]
  },
  {
   "cell_type": "code",
   "execution_count": 1,
   "metadata": {},
   "outputs": [],
   "source": [
    "import nltk\n",
    "import pathlib\n",
    "import functools"
   ]
  },
  {
   "cell_type": "markdown",
   "metadata": {},
   "source": [
    "### Setup"
   ]
  },
  {
   "cell_type": "code",
   "execution_count": 2,
   "metadata": {},
   "outputs": [
    {
     "name": "stdout",
     "output_type": "stream",
     "text": [
      "TODO: loading config from ...ca/ungol-models/conf/logging.conf\n"
     ]
    }
   ],
   "source": [
    "from ungol.wmd import wmd"
   ]
  },
  {
   "cell_type": "code",
   "execution_count": 3,
   "metadata": {},
   "outputs": [],
   "source": [
    "basedir = pathlib.Path('../../ungol-es/opt')\n",
    "f_codemap = str(basedir / 'src/codemap.bin')\n",
    "f_vocab = str(basedir / 'src/fasttext.de.vocab.pickle')\n",
    "# f_stopwords = [str(glob) for glob in (basedir / 'src' / 'stopwords').glob('*.txt')]\n",
    "\n",
    "ref = wmd.DocReferences.from_files(f_codemap, f_vocab, )  # f_stopwords)"
   ]
  },
  {
   "cell_type": "markdown",
   "metadata": {},
   "source": [
    "### Example Documents"
   ]
  },
  {
   "cell_type": "code",
   "execution_count": 4,
   "metadata": {},
   "outputs": [],
   "source": [
    "db = wmd.Database(docref=ref, mapping={})\n",
    "\n",
    "text_1 = 'seehofer seehofer seehofer begrüßt seinen freund maaßen maaßen in berlin'\n",
    "text_2 = 'der innenminister innenminister stellt sich hinter den verfassungsschutz verfassungsschutz'\n",
    "text_3 = 'in hamburg begrüßt ein mensch seinen affen'\n",
    "\n",
    "tokenizer = functools.partial(nltk.tokenize.word_tokenize, language='german')\n",
    "\n",
    "# for IDF\n",
    "for i in range(9):\n",
    "    text = tokenizer('ein seinen in der den sich begrüßt')\n",
    "    db += wmd.Doc.from_tokens(f'idf1-{i}', text, ref)\n",
    "\n",
    "for i in range(9):\n",
    "    text = tokenizer('seinen in der der den sich')\n",
    "    db += wmd.Doc.from_tokens(f'idf2-{i}', text, ref)\n",
    "    \n",
    "\n",
    "tokens_1 = tokenizer(text_1.lower())\n",
    "tokens_2 = tokenizer(text_2.lower())\n",
    "tokens_3 = tokenizer(text_3.lower())\n",
    "\n",
    "doc1 = wmd.Doc.from_tokens('text_1', tokens_1, ref)\n",
    "db += doc1\n",
    "\n",
    "doc2 = wmd.Doc.from_tokens('text_2', tokens_2, ref)\n",
    "db += doc2\n",
    "\n",
    "doc3 = wmd.Doc.from_tokens('text_3', tokens_3, ref)\n",
    "db += doc3"
   ]
  },
  {
   "cell_type": "code",
   "execution_count": 5,
   "metadata": {},
   "outputs": [],
   "source": [
    "from ungol.wmd import sim\n",
    "from ungol.wmd import rhwmd"
   ]
  },
  {
   "cell_type": "code",
   "execution_count": 6,
   "metadata": {
    "scrolled": false
   },
   "outputs": [
    {
     "name": "stdout",
     "output_type": "stream",
     "text": [
      "recalculating avg doclen\n",
      "\n",
      "VNGOL database\n",
      "  containing: 21 documents\n",
      "  vocabulary: 400000 words\n",
      "  filtering: 0 stopwords\n",
      "  code size: 256 bits\n",
      "  tokens: 18\n",
      "  avg. doc length: 6.14286\n",
      "  skipped: 0\n",
      "\n",
      "\n",
      "rhwmd score : 1.337950966020399\n",
      "\n",
      "--------  ---\n",
      "strategy  SUM\n",
      "--------  ---\n",
      "\n",
      "\n",
      "\n",
      "+-------------------------------------------------------------------------------------------------+\n",
      "|                                                                                                 |\n",
      "|  comparing: \"text_1\" to \"text_2\"                                                                |\n",
      "|                                                                                                 |\n",
      "|  -----  --------                                                                                |\n",
      "|  score  0.659908                                                                                |\n",
      "|  -----  --------                                                                                |\n",
      "|                                                                                                 |\n",
      "|                                                                                                 |\n",
      "|    no  token     nn                sim    tf(token)    idf(token)    idf(nn)     idf    weight  |\n",
      "|  ----  --------  -------------  ------  -----------  ------------  ---------  ------  --------  |\n",
      "|     0  seehofer  innenminister  0.6875       0.3000        3.0445     3.0445  3.0445    0.1864  |\n",
      "|     1  freund    stellt         0.6680       0.1000        3.0445     3.0445  3.0445    0.1811  |\n",
      "|     2  maaßen    innenminister  0.6250       0.2000        3.0445     3.0445  3.0445    0.1695  |\n",
      "|     3  berlin    der            0.6367       0.1000        3.0445     0.1001  1.5723    0.0892  |\n",
      "|     4  begrüßt   der            0.6992       0.1000        0.6466     0.1001  0.3734    0.0233  |\n",
      "|     5  in        den            0.8047       0.1000        0.0488     0.1001  0.0744    0.0053  |\n",
      "|     6  seinen    sich           0.7773       0.1000        0.0488     0.1001  0.0744    0.0052  |\n",
      "|                                                                                                 |\n",
      "+-------------------------------------------------------------------------------------------------+\n",
      "\n",
      "+-----------------------------------------------------------------------------------------------------+\n",
      "|                                                                                                     |\n",
      "|  comparing: \"text_2\" to \"text_1\"                                                                    |\n",
      "|                                                                                                     |\n",
      "|  -----  --------                                                                                    |\n",
      "|  score  0.678043                                                                                    |\n",
      "|  -----  --------                                                                                    |\n",
      "|                                                                                                     |\n",
      "|                                                                                                     |\n",
      "|    no  token              nn           sim    tf(token)    idf(token)    idf(nn)     idf    weight  |\n",
      "|  ----  -----------------  --------  ------  -----------  ------------  ---------  ------  --------  |\n",
      "|     0  innenminister      seehofer  0.6875       0.2222        3.0445     3.0445  3.0445    0.2225  |\n",
      "|     1  verfassungsschutz  seehofer  0.6406       0.2222        3.0445     3.0445  3.0445    0.2074  |\n",
      "|     2  hinter             seinen    0.6992       0.1111        3.0445     0.0488  1.5467    0.1150  |\n",
      "|     3  stellt             in        0.6953       0.1111        3.0445     0.0488  1.5467    0.1143  |\n",
      "|     4  den                in        0.8047       0.1111        0.1001     0.0488  0.0744    0.0064  |\n",
      "|     5  sich               in        0.7891       0.1111        0.1001     0.0488  0.0744    0.0062  |\n",
      "|     6  der                in        0.7852       0.1111        0.1001     0.0488  0.0744    0.0062  |\n",
      "|                                                                                                     |\n",
      "+-----------------------------------------------------------------------------------------------------+\n",
      "\n",
      "====================================================================================================\n",
      "\n",
      "rhwmd score : 1.3982574652514215\n",
      "\n",
      "--------  ---\n",
      "strategy  SUM\n",
      "--------  ---\n",
      "\n",
      "\n",
      "\n",
      "+-------------------------------------------------------------------------------------------+\n",
      "|                                                                                           |\n",
      "|  comparing: \"text_1\" to \"text_3\"                                                          |\n",
      "|                                                                                           |\n",
      "|  -----  --------                                                                          |\n",
      "|  score  0.695154                                                                          |\n",
      "|  -----  --------                                                                          |\n",
      "|                                                                                           |\n",
      "|                                                                                           |\n",
      "|    no  token     nn          sim    tf(token)    idf(token)    idf(nn)     idf    weight  |\n",
      "|  ----  --------  -------  ------  -----------  ------------  ---------  ------  --------  |\n",
      "|     0  berlin    hamburg  0.7344       0.1000        3.0445     3.0445  3.0445    0.2562  |\n",
      "|     1  maaßen    begrüßt  0.6055       0.2000        3.0445     0.6466  1.8456    0.1280  |\n",
      "|     2  freund    seinen   0.6562       0.1000        3.0445     0.0488  1.5467    0.1163  |\n",
      "|     3  seehofer  seinen   0.6172       0.3000        3.0445     0.0488  1.5467    0.1094  |\n",
      "|     4  begrüßt   begrüßt  1.0000       0.1000        0.6466     0.6466  0.6466    0.0741  |\n",
      "|     5  seinen    seinen   1.0000       0.1000        0.0488     0.0488  0.0488    0.0056  |\n",
      "|     6  in        in       1.0000       0.1000        0.0488     0.0488  0.0488    0.0056  |\n",
      "|                                                                                           |\n",
      "+-------------------------------------------------------------------------------------------+\n",
      "\n",
      "+------------------------------------------------------------------------------------------+\n",
      "|                                                                                          |\n",
      "|  comparing: \"text_3\" to \"text_1\"                                                         |\n",
      "|                                                                                          |\n",
      "|  -----  --------                                                                         |\n",
      "|  score  0.703104                                                                         |\n",
      "|  -----  --------                                                                         |\n",
      "|                                                                                          |\n",
      "|                                                                                          |\n",
      "|    no  token    nn          sim    tf(token)    idf(token)    idf(nn)     idf    weight  |\n",
      "|  ----  -------  -------  ------  -----------  ------------  ---------  ------  --------  |\n",
      "|     0  hamburg  berlin   0.7344       0.1429        3.0445     3.0445  3.0445    0.2548  |\n",
      "|     1  mensch   freund   0.6484       0.1429        3.0445     3.0445  3.0445    0.2250  |\n",
      "|     2  affen    seinen   0.6133       0.1429        3.0445     0.0488  1.5467    0.1081  |\n",
      "|     3  begrüßt  begrüßt  1.0000       0.1429        0.6466     0.6466  0.6466    0.0737  |\n",
      "|     4  ein      in       0.6758       0.1429        0.7419     0.0488  0.3954    0.0304  |\n",
      "|     5  in       in       1.0000       0.1429        0.0488     0.0488  0.0488    0.0056  |\n",
      "|     6  seinen   seinen   1.0000       0.1429        0.0488     0.0488  0.0488    0.0056  |\n",
      "|                                                                                          |\n",
      "+------------------------------------------------------------------------------------------+\n",
      "\n"
     ]
    }
   ],
   "source": [
    "print(str(db))\n",
    "\n",
    "report = sim.rhwmd(db, doc1.name, doc2.name, verbose=True, strategy=rhwmd.Strategy.SUM)\n",
    "print(str(report))\n",
    "\n",
    "print('=' * 100)\n",
    "\n",
    "report = sim.rhwmd(db, doc1.name, doc3.name, verbose=True, strategy=rhwmd.Strategy.SUM)\n",
    "print(str(report))\n",
    "\n",
    "# print('=' * 100)\n",
    "\n",
    "# report = sim.bm25(db, doc1.name, doc3.name, verbose=True)\n",
    "# print(str(report))\n",
    "\n",
    "# print('=' * 100)\n",
    "\n",
    "# report = sim.rhwmd25(db, doc1.name, doc2.name, verbose=True)\n",
    "# print(str(report))\n",
    "\n",
    "# print('=' * 100)\n",
    "\n",
    "# report = sim.rhwmd(db, doc1.name, doc3.name, verbose=True)\n",
    "# print(str(report))"
   ]
  }
 ],
 "metadata": {
  "kernelspec": {
   "display_name": "ungol-wmd",
   "language": "python",
   "name": "ungol-wmd"
  },
  "language_info": {
   "codemirror_mode": {
    "name": "ipython",
    "version": 3
   },
   "file_extension": ".py",
   "mimetype": "text/x-python",
   "name": "python",
   "nbconvert_exporter": "python",
   "pygments_lexer": "ipython3",
   "version": "3.6.4"
  }
 },
 "nbformat": 4,
 "nbformat_minor": 2
}
