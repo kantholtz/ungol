{
 "cells": [
  {
   "cell_type": "code",
   "execution_count": 1,
   "metadata": {},
   "outputs": [],
   "source": [
    "d_lookup_table = [\n",
    "    (10, 0.0776129),\n",
    "    (20, 0.145725),\n",
    "    (30, 0.247025),\n",
    "    (40, 0.394744),\n",
    "    (50, 0.546931),\n",
    "    (100, 1.93713),\n",
    "    (500, 72.5883),\n",
    "    (1000, 212.167),\n",
    "    (2000, 800.988),\n",
    "]\n",
    "\n",
    "d_vectorized = [\n",
    "    (10, 1.83775),\n",
    "    (20, 7.12404),\n",
    "    (30, 16.4227),\n",
    "    (40, 28.3353),\n",
    "    (50, 45.2628),\n",
    "    (100, 129.553),\n",
    "]\n",
    "\n",
    "d_naive = [\n",
    "    (10, 3.20033),\n",
    "    (20, 12.6541),\n",
    "    (30, 28.3645),\n",
    "    (40, 52.67),\n",
    "    (50, 74.086),\n",
    "    (100, 219.239),\n",
    "]"
   ]
  },
  {
   "cell_type": "code",
   "execution_count": 2,
   "metadata": {},
   "outputs": [],
   "source": [
    "from matplotlib import pyplot as plt"
   ]
  },
  {
   "cell_type": "code",
   "execution_count": 3,
   "metadata": {},
   "outputs": [],
   "source": [
    "CLR = {\n",
    "    'blue': ['#e0f3ff', '#aadeff', '#2bb1ff', '#15587f', '#0b2c40'],\n",
    "    'gold': ['#fff3dc', '#ffebc7', '#ffddab', '#b59d79', '#5C4938'],\n",
    "    'red':  ['#ffd8e8', '#ff9db6', '#ff3e72', '#6B404C', '#521424'],\n",
    "}"
   ]
  },
  {
   "cell_type": "code",
   "execution_count": 14,
   "metadata": {},
   "outputs": [
    {
     "name": "stderr",
     "output_type": "stream",
     "text": [
      "No handles with labels found to put in legend.\n"
     ]
    },
    {
     "data": {
      "image/png": "[encoded data removed]",
      "text/plain": [
       "<Figure size 432x288 with 1 Axes>"
      ]
     },
     "metadata": {
      "needs_background": "light"
     },
     "output_type": "display_data"
    }
   ],
   "source": [
    "def _fig_before(title: str):\n",
    "        fig = plt.figure()\n",
    "        ax = fig.add_subplot(111)\n",
    "        ax.set_title(title)\n",
    "        ax.set_xlabel('size')\n",
    "        ax.set_ylabel('ms')\n",
    "        return fig, ax\n",
    "\n",
    "def _fig_after(fig, ax, patches = None, fname = None):\n",
    "    ax.legend(handles=patches)\n",
    "    \n",
    "    if display:\n",
    "        plt.show(fig)\n",
    "    if fname:\n",
    "        for out_file in [str(out_dir/fname) + s for s in ('.png', '.svg')]:\n",
    "            print('saving to', out_file)\n",
    "            fig.savefig(out_file)\n",
    "\n",
    "    plt.close(fig)\n",
    "\n",
    "def _plot(ax, data):\n",
    "    x, y = zip(*data)\n",
    "    ax.plot(x, y)\n",
    "    \n",
    "fig, ax = _fig_before('Distance Matrix Computation')\n",
    "\n",
    "ax.set_xscale('log')\n",
    "# ax.set_yscale('log')\n",
    "\n",
    "_plot(ax, d_lookup_table)\n",
    "_plot(ax, d_vectorized)\n",
    "_plot(ax, d_naive)\n",
    "\n",
    "_fig_after(fig, ax)"
   ]
  }
 ],
 "metadata": {
  "kernelspec": {
   "display_name": "ungol-wmd",
   "language": "python",
   "name": "ungol-wmd"
  },
  "language_info": {
   "codemirror_mode": {
    "name": "ipython",
    "version": 3
   },
   "file_extension": ".py",
   "mimetype": "text/x-python",
   "name": "python",
   "nbconvert_exporter": "python",
   "pygments_lexer": "ipython3",
   "version": "3.6.4"
  }
 },
 "nbformat": 4,
 "nbformat_minor": 2
}
